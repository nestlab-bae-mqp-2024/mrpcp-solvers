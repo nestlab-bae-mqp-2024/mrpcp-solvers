{
 "cells": [
  {
   "cell_type": "code",
   "execution_count": 1,
   "id": "initial_id",
   "metadata": {
    "ExecuteTime": {
     "end_time": "2023-11-02T01:31:20.857108Z",
     "start_time": "2023-11-02T01:31:20.792703Z"
    },
    "collapsed": false,
    "jupyter": {
     "outputs_hidden": false
    }
   },
   "outputs": [
    {
     "name": "stdout",
     "output_type": "stream",
     "text": [
      "nodes.shape=(3, 10, 10, 2)\n"
     ]
    },
    {
     "data": {
      "image/png": "[encoded data removed]",
      "text/plain": [
       "<Figure size 640x480 with 1 Axes>"
      ]
     },
     "metadata": {},
     "output_type": "display_data"
    }
   ],
   "source": [
    "from matplotlib import pyplot as plt\n",
    "from pprint import pp\n",
    "import numpy as np\n",
    "\n",
    "# Chose number of robots\n",
    "k = 3\n",
    "# Choose starting positions of robots\n",
    "B_k = np.array([[2,3],[4,4],[9,9]])\n",
    "\n",
    "# Chose recharging proportionality constant\n",
    "q_k = 0.1  # This means that each robot will need to charge for 10 minutes for every 100 minutes travelled\n",
    "# Chose the number of nodes in an axis\n",
    "n = 10\n",
    "#fuel capacity for a robot, represented as the length in nodes: for the 1 depot case, has to be AT LEAST 2*(2*(n-1)) to fit the constraint of the problem \"It is assumed that \n",
    "#for each target point, there is a depot that is reachable by expending at most L/2 of the fuel.\"\n",
    "fuel_capacity = 2*(2*(n-1))\n",
    "max_fuel_expenditure = 2*(n-1)\n",
    "# Create a uniform (n, n, 2) numpy grid for MAXIMUM SPEED\n",
    "nodes = np.mgrid[-1:1:n * 1j, -1.:1:n * 1j]\n",
    "nodes = nodes.reshape(nodes.shape + (1,))\n",
    "nodes = np.concatenate((nodes[0], nodes[1]), axis=2)\n",
    "nodes = nodes.reshape((1,) + nodes.shape)\n",
    "nodes = np.concatenate([nodes for _ in range(k)], axis=0)\n",
    "print(f\"{nodes.shape=}\")\n",
    "\n",
    "# nodes = targets + depots\n",
    "# Note: If a node isn't a depot, it is a target\n",
    "\n",
    "# Specify depots\n",
    "## One depot node\n",
    "depots_i = np.array([[0, 0],[0,1],[1,1],[1,0]])\n",
    "## Four depot nodes (one in each corner)\n",
    "# depots_i = np.array([[0, 0], [0, n-1], [n-1, 0], [n-1,n-1]])\n",
    "\n",
    "# Graphical sanity check\n",
    "plt.figure()\n",
    "plt.scatter(nodes[0,:,:,0], nodes[0,:,:,1], c='blue', s=10)\n",
    "plt.scatter(nodes[0,depots_i[:,0],depots_i[:,1],0], nodes[0,depots_i[:,0],depots_i[:,1], 1], c='red', s=50)\n",
    "plt.grid()\n",
    "plt.show()"
   ]
  },
  {
   "cell_type": "code",
   "execution_count": 2,
   "id": "268cd022e8f52ee4",
   "metadata": {
    "ExecuteTime": {
     "end_time": "2023-11-02T01:31:20.904049Z",
     "start_time": "2023-11-02T01:31:20.862497Z"
    },
    "collapsed": false,
    "jupyter": {
     "outputs_hidden": false
    }
   },
   "outputs": [
    {
     "name": "stdout",
     "output_type": "stream",
     "text": [
      "cost.shape=(3, 10, 10, 10, 10)\n"
     ]
    }
   ],
   "source": [
    "import itertools\n",
    "\n",
    "# Calculate c_{i1,j1,i2,j2} (c[i1, j1, i2, j2] is the cost (including recharging, q_k) from TARGET and DEPOT nodes (i1, j1) to (i2, j2))\n",
    "cost = np.zeros((n,n,n,n))\n",
    "for i1, j1, i2, j2 in itertools.product(range(n), range(n), range(n), range(n)):\n",
    "    cost[i1,j1,i2,j2] = (1. + q_k) * np.sqrt((nodes[0,i1,j1,0]-nodes[0,i2,j2,0]) ** 2 + (nodes[0,i1,j1,1]-nodes[0,i2,j2,1]) ** 2)\n",
    "    # print(f\"({i1},{j1},{i2},{j2}):({targets[i1,j1,0]},{targets[i1,j1,1]},{targets[i2,j2,0]},{targets[i2,j2,1]}): {target_cost[i1,j1,i2,j2]}\")\n",
    "cost = cost.reshape((1,) + cost.shape)\n",
    "cost = np.concatenate([cost for _ in range(k)], axis=0)\n",
    "print(f\"{cost.shape=}\")\n"
   ]
  },
  {
   "cell_type": "code",
   "execution_count": 3,
   "id": "6b99b48560729e56",
   "metadata": {
    "ExecuteTime": {
     "end_time": "2023-11-02T01:31:23.016706Z",
     "start_time": "2023-11-02T01:31:20.922196Z"
    },
    "collapsed": false,
    "jupyter": {
     "outputs_hidden": false
    }
   },
   "outputs": [
    {
     "name": "stdout",
     "output_type": "stream",
     "text": [
      "Set parameter WLSAccessID\n",
      "Set parameter WLSSecret\n",
      "Set parameter LicenseID to value 2421626\n",
      "Academic license - for non-commercial use only - registered to cecummings@wpi.edu\n"
     ]
    }
   ],
   "source": [
    "import gurobipy as gp\n",
    "from gurobipy import GRB\n",
    "\n",
    "m = gp.Model()\n",
    "\n",
    "# Set the OBJECTIVE FUNCTION\n",
    "# ((1+q_k) * c_{ij}) * x^{k}_{ij}\n",
    "x = m.addMVar((k,n,n,n,n), name='x', vtype=GRB.INTEGER, lb=0, ub=int(n*n-len(depots_i)), obj=cost)\n",
    "for i1, j1, i2, j2 in itertools.product(range(n), range(n), range(n), range(n)):\n",
    "    is_depot_involved = False\n",
    "    for depots_ii in depots_i:\n",
    "        if (depots_ii[0] == i1 and depots_ii[1] == j1) or (depots_ii[0] == i2 and depots_ii[1] == j2):\n",
    "            is_depot_involved = True\n",
    "            continue\n",
    "    if is_depot_involved:\n",
    "        continue\n",
    "    _ = m.addConstr(x[:,i1,j1,i2,j2] <= 1)\n",
    "# Above code handles A. Integer Constraints (4) and (5)"
   ]
  },
  {
   "cell_type": "code",
   "execution_count": 4,
   "id": "ca912f4337f21993",
   "metadata": {
    "ExecuteTime": {
     "end_time": "2023-11-02T01:31:40.136036Z",
     "start_time": "2023-11-02T01:31:23.074687Z"
    },
    "collapsed": false,
    "jupyter": {
     "outputs_hidden": false
    }
   },
   "outputs": [],
   "source": [
    "# B. Degree Constraints (6), (7), (8), (9), (10)\n",
    "# (6) and (7) Only one robot arrives to and leaves from a target\n",
    "for ki, i1, j1 in itertools.product(range(k), range(n), range(n)):\n",
    "    for d in depots_i:\n",
    "        if not ((i1 == B_k[ki][0] and j1 == B_k[ki][1]) or (i1 == d[0] and j1 == d[1])): \n",
    "            _ = m.addConstr(x[:,i1,j1,:,:].sum() == 1)\n",
    "            _ = m.addConstr(x[:,:,:,i1,j1].sum() == 1)\n",
    "    \n",
    "# (8) and (9) Begin and end at same position B_k\n",
    "_ = m.addConstrs(x[ki,B_k[ki][0],B_k[ki][1],:,:].sum() <= 1 for ki in range(k))\n",
    "_ = m.addConstrs(x[ki,:,:,B_k[ki][0],B_k[ki][1]].sum() <= 1 for ki in range(k))\n",
    "# (10) Every robot that visits a target leaves the target\n",
    "_ = m.addConstrs(x[ki,:,:,i1,j1]-x[ki,i1,j1,:,:] == 0 for ki in range(k) for i1 in range(n) for j1 in range(n))\n",
    "\n",
    "# Additional constraints: no loopholes!\n",
    "#_ = m.addConstrs(x[ki, i, j, i, j] == 0 for ki in range(k) for i in range(n) for j in range(n))\n",
    "# Additional Constraints: symmetry!\n",
    "#_ = m.addConstrs(x[ki, i1, j1, i2, j2] == x[ki, i2, j2, i1, j1] for ki in range(k) for i1 in range(n) for j1 in range(n) for i2 in range(n) for j2 in range(n))"
   ]
  },
  {
   "cell_type": "code",
   "execution_count": null,
   "id": "4e5d9705787100de",
   "metadata": {
    "ExecuteTime": {
     "end_time": "2023-11-02T01:31:40.141161Z",
     "start_time": "2023-11-02T01:31:40.139213Z"
    },
    "collapsed": false,
    "jupyter": {
     "outputs_hidden": false
    }
   },
   "outputs": [],
   "source": [
    "# C. Degree Constraints (11), (12), (13), (14)\n",
    "# This may be a lazy constraint because it is about sub tour elimination.\n",
    "p = m.addMVar((n,n,n,n), name='p', vtype=GRB.INTEGER)\n",
    "for ki in range(k):\n",
    "    for d in depots_i: #(i1, j1) N\\Bk, (i2, j2) T\\Bk\n",
    "        #(13)\n",
    "        _ = m.addConstr((p[:, :, d[0], d[1]] - p[d[0], d[1], :, :]).sum() == 0)\n",
    "        for i1, j1, i2, j2, i3, j3 in itertools.product(range(n), range(n), range(n), range(n), range(n), range(n)):\n",
    "            if not ((i1 == B_k[ki][0] and j1 == B_k[ki][1]) or (i2 == B_k[ki][0] and j2 == B_k[ki][1]) or (i2 == d[0] and j2 == d[1])):\n",
    "                #(11)\n",
    "                _ = m.addConstr((p[B_k[0], B_k[1], i1, j1] - p[i1, j1, B_k[0], B_k[1]]).sum() == x[ki,i2,j2,:,:].sum()) \n",
    "                #(12)\n",
    "                _ = m.addConstr((p[i2, j2, :, :] - p[:, :, i2, j2]).sum() == x[ki,i2,j2,:,:].sum())\n",
    "\n",
    "#(14)\n",
    "_ = m.addConstrs(p[i1,j1,:,:] >= 0 for ki in range(k) for i1 in range(n) for j1 in range(n))\n",
    "_ = m.addConstrs(p[i1,j1,:,:] <= fuel_capacity*x[ki,i1,j1,:,:] for ki in range(k) for i1 in range(n) for j1 in range(n))"
   ]
  },
  {
   "cell_type": "code",
   "execution_count": null,
   "id": "49b7a8d0e07406ff",
   "metadata": {
    "ExecuteTime": {
     "end_time": "2023-11-02T01:31:40.144778Z",
     "start_time": "2023-11-02T01:31:40.141522Z"
    },
    "collapsed": false,
    "jupyter": {
     "outputs_hidden": false
    }
   },
   "outputs": [],
   "source": [
    "# Fuel Constraints (15), (16), (17), (18), (19), (20)\n",
    "# This includes adding another decision variable\n",
    "\n",
    "from queue import PriorityQueue\n",
    "import math\n",
    "import itertools\n",
    "#https://www.redblobgames.com/pathfinding/a-star/implementation.html#python-astar\n",
    "def neighbors(curr):\n",
    "    ns = [(curr[0]+1, curr[1]), (curr[0]-1, curr[1]), (curr[0], curr[1]+1), (curr[0], curr[1]-1), (curr[0]+1, curr[1]+1), (curr[0]-1, curr[1]-1), (curr[0]+1, curr[1]-1), (curr[0]-1, curr[1]+1)]\n",
    "    neighbors = []\n",
    "    for n in ns:\n",
    "        if n[0] <= 9 and n[0] >= 0 and n[1] <= 9 and n[1] >= 0:    \n",
    "            neighbors.append(n)\n",
    "    return neighbors\n",
    "\n",
    "#there are absolutely better ways to do this, this is just the one that took me 10 minutes to do.\n",
    "def a_star_search(i1, j1, i2, j2):\n",
    "    frontier = PriorityQueue()\n",
    "    frontier.put((i1,j1), 0)\n",
    "    came_from = dict()\n",
    "    cost_so_far = dict()\n",
    "    came_from[(i1,j1)] = None\n",
    "    cost_so_far[(i1,j1)] = 0\n",
    "    \n",
    "    \n",
    "    while not frontier.empty():\n",
    "        current = frontier.get()\n",
    "        if current == (i2, j2):\n",
    "            break\n",
    "\n",
    "        for next in neighbors(current):\n",
    "            new_cost = cost_so_far[current] + math.dist(current, next)\n",
    "            if next not in cost_so_far or new_cost < cost_so_far[next]:\n",
    "                cost_so_far[next] = new_cost\n",
    "                priority = new_cost #+ math.dist(next, (i2,j2))\n",
    "                frontier.put(next, priority)\n",
    "                came_from[next] = current\n",
    "                \n",
    "    curr_val = (i2, j2)\n",
    "    final_path = []\n",
    "    while curr_val != (i1, j1):\n",
    "        final_path.append(curr_val)\n",
    "        curr_val = came_from[curr_val]\n",
    "            \n",
    "    final_path.append((i1, j1))\n",
    "    final_path.reverse()\n",
    "    \n",
    "    return final_path\n",
    "# Fuel Constraints (15), (16), (17), (18), (19), (20)\n",
    "# This includes adding another decision variable\n",
    "ri = model.addVar(1, name='ri', vtype=GRB.INTEGER)\n",
    "rj = model.addVar(1, name='rj', vtype=GRB.INTEGER)\n",
    "\n",
    "for i1, j1, i2, j2 in itertools.product(range(n), range(n), range(n), range(n)):\n",
    "    fij = len(a_star_search(i1,j1,i2,j2))\n",
    "    _ = model.addConstr(rj-ri+fij <= (fuel_capacity+max_fuel_expenditure)*(1-x[:,i1,j1,:,:])) #(15)\n",
    "    _ = model.addConstr(rj-ri+fij >= -(fuel_capacity+max_fuel_expenditure)*(1-x[:,i1,j1,:,:])) #(16)\n",
    "\n",
    "    #(20)\n",
    "    _ = model.addConstr(0<=ri)\n",
    "    _ = model.addConstr(ri<=fuel_capacity)\n",
    "    for depot in depots_i:\n",
    "        if i1 == depot[0] and j1 == depot[1]:\n",
    "            _ = model.addConstr(rj-fuel_capacity+fij >= -(fuel_capacity+max_fuel_expenditure)*(1-x[:,i1,j1,depot[0],depot[1]])) #(17)\n",
    "            _ = model.addConstr(rj-fuel_capacity+fij <= (fuel_capacity+max_fuel_expenditure)*(1-x[:,i1,j1,depot[0],depot[1]])) #(18)\n",
    "        if i2 == depot[0] and j2 == depot[1]:\n",
    "            _ = model.addConstr(ri-fij >= -(fuel_capacity+max_fuel_expenditure)*(1-x[:,depot[0],depot[1],i2,j2])) #(19)"
   ]
  },
  {
   "cell_type": "code",
   "execution_count": null,
   "id": "947f15054b76a839",
   "metadata": {
    "ExecuteTime": {
     "end_time": "2023-11-02T01:31:40.461204Z",
     "start_time": "2023-11-02T01:31:40.144368Z"
    },
    "collapsed": false,
    "jupyter": {
     "outputs_hidden": false
    }
   },
   "outputs": [],
   "source": [
    "m._vars = x\n",
    "#m.Params.lazyConstraints = 1\n",
    "m.optimize()\n",
    "#m.optimize()\n",
    "#for ki, i1, j1, i2, j2 in itertools.product(range(k), range(n), range(n), range(n), range(n)):\n",
    "#    if m._vars.x[ki][i1][j1][6][6] > 0 or m._vars.x[ki][6][6][i2][j2] > 0:\n",
    "#        print(i1,j1)\n",
    "\n",
    "#print(x_values)\n",
    "robot_paths = [[] for _ in range(k)]\n",
    "for ki in range(k):\n",
    "    print(\"Robot #:\", k)\n",
    "    for i1, j1, i2, j2 in itertools.product(range(n), range(n), range(n), range(n)):\n",
    "        #tour = subtour(np.transpose(np.where(m._vars.x[ki] > 0.5)))\n",
    "        if m._vars.x[ki][i1][j1][i2][j2] > 0.5:\n",
    "            print(i1,j1,i2,j2)\n",
    "            robot_paths[ki].append([i1,j1,i2,j2]) \n",
    "\n",
    "print(robot_paths)"
   ]
  },
  {
   "cell_type": "code",
   "execution_count": null,
   "id": "c3aa8ee6910120d5",
   "metadata": {
    "ExecuteTime": {
     "end_time": "2023-11-02T01:31:40.540678Z",
     "start_time": "2023-11-02T01:31:40.474779Z"
    },
    "collapsed": false,
    "jupyter": {
     "outputs_hidden": false
    }
   },
   "outputs": [],
   "source": [
    "shortest_tours = []\n",
    "selected = m._vars.x\n",
    "for ki in range(k):\n",
    "    shortest_tour, all_tours = subtour(np.transpose(np.where(m._vars.x[ki] > 0.5)))\n",
    "    print(shortest_tour)\n",
    "    #shortest_tour.append(shortest_tour[0])\n",
    "    #shortest_tours.append(shortest_tour)\n",
    "    #print(f\"robot #{ki}\")\n",
    "    #print(f\"Shortest Tour: {shortest_tour}\")\n",
    "    # for i, t in enumerate(all_tours):\n",
    "    #     print(f\"Tour #{i}: {all_tours}\")\n",
    "    #print(\"-\" * 50)\n"
   ]
  },
  {
   "cell_type": "code",
   "execution_count": null,
   "id": "aceb07559a308baa",
   "metadata": {
    "ExecuteTime": {
     "end_time": "2023-11-02T01:31:40.837731Z",
     "start_time": "2023-11-02T01:31:40.547757Z"
    },
    "collapsed": false,
    "jupyter": {
     "outputs_hidden": false
    }
   },
   "outputs": [],
   "source": [
    "# Graphical sanity check for the tour\n",
    "for ki, tour in enumerate(shortest_tours):\n",
    "    fig = plt.figure()\n",
    "    fig.suptitle(f\"Path for robot #{ki}\")\n",
    "    plt.scatter(nodes[0, :, :, 0], nodes[0, :, :, 1], c='blue', s=10)\n",
    "    plt.scatter(nodes[0, depots_i[:, 0], depots_i[:, 1], 0], nodes[0, depots_i[:, 0], depots_i[:, 1], 1], c='red', s=50)\n",
    "    tour_np = np.array([]).reshape(0, 2)\n",
    "    for i, j in tour:\n",
    "        plt.scatter(nodes[0, i, j, 0], nodes[0, i, j, 1], c=\"green\", s=8)\n",
    "        tour_np = np.concatenate((tour_np, nodes[0, i, j].reshape(1, 2)))\n",
    "    plt.plot(tour_np[:, 0], tour_np[:, 1], color=\"green\", linewidth=1)\n",
    "    plt.grid()\n",
    "    plt.show()\n"
   ]
  },
  {
   "cell_type": "code",
   "execution_count": null,
   "id": "e6ca38752a1f7eb1",
   "metadata": {
    "ExecuteTime": {
     "end_time": "2023-11-02T01:31:40.837845Z",
     "start_time": "2023-11-02T01:31:40.835698Z"
    },
    "collapsed": false,
    "jupyter": {
     "outputs_hidden": false
    }
   },
   "outputs": [],
   "source": []
  },
  {
   "cell_type": "code",
   "execution_count": null,
   "id": "c9c0b660-7e4d-4e92-8592-1f3dc52d3fc9",
   "metadata": {},
   "outputs": [],
   "source": []
  }
 ],
 "metadata": {
  "kernelspec": {
   "display_name": "Python 3 (ipykernel)",
   "language": "python",
   "name": "python3"
  },
  "language_info": {
   "codemirror_mode": {
    "name": "ipython",
    "version": 3
   },
   "file_extension": ".py",
   "mimetype": "text/x-python",
   "name": "python",
   "nbconvert_exporter": "python",
   "pygments_lexer": "ipython3",
   "version": "3.11.6"
  }
 },
 "nbformat": 4,
 "nbformat_minor": 5
}
