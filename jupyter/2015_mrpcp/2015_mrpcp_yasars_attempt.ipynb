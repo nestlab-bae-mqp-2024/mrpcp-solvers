{
 "cells": [
  {
   "cell_type": "code",
   "execution_count": 1,
   "id": "initial_id",
   "metadata": {
    "ExecuteTime": {
     "end_time": "2023-11-14T19:28:26.572570Z",
     "start_time": "2023-11-14T19:28:25.989395Z"
    },
    "collapsed": false,
    "jupyter": {
     "outputs_hidden": false
    }
   },
   "outputs": [
    {
     "name": "stdout",
     "output_type": "stream",
     "text": [
      "nodes.shape=(3, 4, 4, 2)\n",
      "target_indices=array([[0, 1],\n",
      "       [0, 2],\n",
      "       [1, 0],\n",
      "       [1, 1],\n",
      "       [1, 2],\n",
      "       [1, 3],\n",
      "       [2, 0],\n",
      "       [2, 1],\n",
      "       [2, 2],\n",
      "       [2, 3],\n",
      "       [3, 1],\n",
      "       [3, 2]])\n"
     ]
    },
    {
     "data": {
      "image/png": "[encoded data removed]",
      "text/plain": [
       "<Figure size 640x480 with 1 Axes>"
      ]
     },
     "metadata": {},
     "output_type": "display_data"
    }
   ],
   "source": [
    "from matplotlib import pyplot as plt\n",
    "from pprint import pp\n",
    "import numpy as np\n",
    "\n",
    "import cProfile, pstats, io\n",
    "from pstats import SortKey\n",
    "pr = cProfile.Profile()\n",
    "pr.enable()\n",
    "# Chose number of robots\n",
    "k = 3\n",
    "# Chose recharging proportionality constant\n",
    "q_k = 0.1  # This means that each robot will need to charge for 10 minutes for every 100 minutes travelled\n",
    "# Chose the number of nodes in an axis\n",
    "n = 4\n",
    "# Create a uniform (n, n, 2) numpy grid for MAXIMUM SPEED\n",
    "nodes = np.mgrid[-1:1:n * 1j, -1.:1:n * 1j]\n",
    "nodes = nodes.reshape(nodes.shape + (1,))\n",
    "nodes = np.concatenate((nodes[0], nodes[1]), axis=2)\n",
    "nodes = nodes.reshape((1,) + nodes.shape)\n",
    "nodes = np.concatenate([nodes for _ in range(k)], axis=0)\n",
    "print(f\"{nodes.shape=}\")\n",
    "\n",
    "# nodes = targets + depots\n",
    "# Note: If a node isn't a depot, it is a target\n",
    "\n",
    "# Specify depots\n",
    "## One depot node\n",
    "# depots_i = np.array([[0, 0]])\n",
    "## Four depot nodes (one in each corner)\n",
    "depot_indices = np.array([[0, 0], [0, n-1], [n-1, 0], [n-1,n-1]])\n",
    "# print(f\"{depot_indices=}\")\n",
    "target_indices = []\n",
    "for i in range(n):\n",
    "    for j in range(n):\n",
    "        is_depot = False\n",
    "        for depot in depot_indices:\n",
    "            if i == depot[0] and j == depot[1]:\n",
    "                is_depot = True\n",
    "                continue\n",
    "        if not is_depot:\n",
    "            target_indices.append([i,j])\n",
    "target_indices = np.array(target_indices)\n",
    "print(f\"{target_indices=}\")\n",
    "\n",
    "# Chose starting depot node\n",
    "B_k = depot_indices\n",
    "# print(f\"{B_k=}\")\n",
    "\n",
    "# Graphical sanity check\n",
    "plt.figure()\n",
    "plt.scatter(nodes[0,:,:,0], nodes[0,:,:,1], c='blue', s=10)\n",
    "plt.scatter(nodes[0,depot_indices[:,0],depot_indices[:,1],0], nodes[0,depot_indices[:,0],depot_indices[:,1], 1], c='red', s=50)\n",
    "plt.grid()\n",
    "plt.show()\n"
   ]
  },
  {
   "cell_type": "code",
   "execution_count": 2,
   "id": "268cd022e8f52ee4",
   "metadata": {
    "ExecuteTime": {
     "end_time": "2023-11-14T19:28:26.672324Z",
     "start_time": "2023-11-14T19:28:26.581610Z"
    },
    "collapsed": false,
    "jupyter": {
     "outputs_hidden": false
    }
   },
   "outputs": [
    {
     "name": "stdout",
     "output_type": "stream",
     "text": [
      "cost.shape=(4, 4, 4, 4)\n"
     ]
    }
   ],
   "source": [
    "import itertools\n",
    "\n",
    "# Calculate c_{i1,j1,i2,j2} (c[i1, j1, i2, j2] is the cost (including recharging, q_k) from TARGET and DEPOT nodes (i1, j1) to (i2, j2))\n",
    "cost = np.zeros((n,n,n,n))\n",
    "for i1, j1, i2, j2 in itertools.product(range(n), range(n), range(n), range(n)):\n",
    "    cost[i1,j1,i2,j2] = np.sqrt((nodes[0,i1,j1,0]-nodes[0,i2,j2,0]) ** 2 + (nodes[0,i1,j1,1]-nodes[0,i2,j2,1]) ** 2)\n",
    "    # print(f\"({i1},{j1},{i2},{j2}):({targets[i1,j1,0]},{targets[i1,j1,1]},{targets[i2,j2,0]},{targets[i2,j2,1]}): {target_cost[i1,j1,i2,j2]}\")\n",
    "print(f\"{cost.shape=}\")\n"
   ]
  },
  {
   "cell_type": "code",
   "execution_count": 3,
   "id": "6b99b48560729e56",
   "metadata": {
    "ExecuteTime": {
     "end_time": "2023-11-14T19:28:36.350657Z",
     "start_time": "2023-11-14T19:28:26.596565Z"
    },
    "collapsed": false,
    "jupyter": {
     "outputs_hidden": false
    }
   },
   "outputs": [
    {
     "name": "stdout",
     "output_type": "stream",
     "text": [
      "Set parameter WLSAccessID\n",
      "Set parameter WLSSecret\n",
      "Set parameter LicenseID to value 2421626\n",
      "Academic license - for non-commercial use only - registered to cecummings@wpi.edu\n"
     ]
    }
   ],
   "source": [
    "import gurobipy as gp\n",
    "from gurobipy import GRB\n",
    "\n",
    "m = gp.Model()\n",
    "x = m.addMVar((k,n,n,n,n), name='x', vtype=GRB.INTEGER, lb=0, ub=len(target_indices))\n",
    "p = m.addMVar((k,n,n,n,n), name='p', vtype=GRB.INTEGER, lb=0, ub=len(target_indices))\n",
    "#edge length method:\n",
    "if(n%2 == 0): #n even \n",
    "    L = n  # Fuel capacity (1 unit of fuel = 1 unit of distance)\n",
    "    M = L + L - 1\n",
    "else: #n odd\n",
    "    L = n - 1\n",
    "    M = L + L\n",
    "#euclidean distance method:\n",
    "#L = 2*np.sqrt((n/2)*(n/2)+(n/2)*(n/2))\n",
    "#It is assumed that for each target point, there is a depot that is reachable by expending at most L/2 of the fuel.\n",
    "#M = L + np.sqrt(n*n+n*n)  c\n",
    "\n",
    "r = m.addMVar((k,n,n), name='r', vtype=GRB.CONTINUOUS, lb=0, ub=L) # (20)\n",
    "p_max = m.addVar(vtype=GRB.CONTINUOUS, name=\"p_max\")"
   ]
  },
  {
   "cell_type": "code",
   "execution_count": 4,
   "id": "ad664cc8-160a-49b7-a5e4-911faaee4e96",
   "metadata": {},
   "outputs": [],
   "source": [
    "# A. Integer Constraints (4), (5)\n",
    "for i1, j1, i2, j2 in itertools.product(range(n), range(n), range(n), range(n)):\n",
    "    are_both_depot = False\n",
    "    for d1 in depot_indices:\n",
    "        if d1[0] != i1 or d1[1] != j1 : continue\n",
    "        for d2 in depot_indices:\n",
    "            if d2[0] != i2 or d2[1] != j2: continue\n",
    "            are_both_depot = True\n",
    "    if not are_both_depot:\n",
    "        for ki in range(k):\n",
    "            _ = m.addConstr(x[ki,i1,j1,i2,j2] <= 1)\n"
   ]
  },
  {
   "cell_type": "code",
   "execution_count": 5,
   "id": "ca912f4337f21993",
   "metadata": {
    "ExecuteTime": {
     "end_time": "2023-11-14T19:28:36.527709Z",
     "start_time": "2023-11-14T19:28:36.423329Z"
    },
    "collapsed": false,
    "jupyter": {
     "outputs_hidden": false
    }
   },
   "outputs": [],
   "source": [
    "# B. Degree Constraints (6), (7), (8), (9), (10)\n",
    "# (6) and (7) Only one robot arrives to and leaves from a target (B_k is a depot, so we don't need to remove it from targets)\n",
    "_ = m.addConstrs(x[:,i1,j1,:,:].sum() == 1 for i1, j1 in target_indices)\n",
    "_ = m.addConstrs(x[:,:,:,i1,j1].sum() == 1 for i1, j1 in target_indices)\n",
    "\n",
    "# (8) and (9) Begin and end at same position B_k\n",
    "_ = m.addConstrs(x[ki,B_k[ki,0],B_k[ki,1],:,:].sum() <= 1 for ki in range(k))\n",
    "_ = m.addConstrs(x[ki,:,:,B_k[ki,0],B_k[ki,1]].sum() <= 1 for ki in range(k))\n",
    "# (10) Every robot that visits a target leaves the target\n",
    "_ = m.addConstrs((x[ki,:,:,i1,j1]-x[ki,i1,j1,:,:]).sum() == 0 for ki in range(k) for i1 in range(n) for j1 in range(n))\n",
    "\n",
    "# Additional constraint: no loopholes!\n",
    "# _ = m.addConstrs(x[ki, i, j, i, j] == 0 for ki in range(k) for i in range(n) for j in range(n))"
   ]
  },
  {
   "cell_type": "code",
   "execution_count": 6,
   "id": "49b7a8d0e07406ff",
   "metadata": {
    "ExecuteTime": {
     "end_time": "2023-11-14T19:29:05.184084Z",
     "start_time": "2023-11-14T19:28:36.533941Z"
    },
    "collapsed": false,
    "jupyter": {
     "outputs_hidden": false
    }
   },
   "outputs": [],
   "source": [
    "# C. Capacity and Flow Constraints (11), (12), (13), (14)\n",
    "\n",
    "# (11) and (12) flow constraints\n",
    "for ki in range(k):\n",
    "    right_side = 0\n",
    "    for i1, j1 in target_indices:\n",
    "        for i2, j2 in itertools.product(range(n), range(n)):\n",
    "            #gp.quicksum([right_side, x[ki,i1,j1,i2,j2]])\n",
    "            right_side += x[ki,i1,j1,i2,j2]\n",
    "    #_ = m.addConstr(gp.quicksum([p[ki,B_k[ki,0],B_k[ki,1],:,:], -p[ki,:,:,B_k[ki,0],B_k[ki,1]]]) == right_side)\n",
    "    _ = m.addConstr((p[ki,B_k[ki,0],B_k[ki,1],:,:] - p[ki,:,:,B_k[ki,0],B_k[ki,1]]).sum() == right_side)\n",
    "\n",
    "_ = m.addConstrs((p[ki,:,:,i1,j1] - p[ki,i1,j1,:,:]).sum() == x[ki,i1,j1,:,:].sum() for ki in range(k) for i1, j1 in target_indices)\n",
    "\n",
    "# (13) Make sure target capacity doesn't change when passing through a depot\n",
    "for ki in range(k):\n",
    "    for i, (i1, j1) in enumerate(depot_indices):\n",
    "        if i == ki: continue  # Why? See: https://github.com/NESTLab/mrpcp#linear-constraints\n",
    "        left_side = 0\n",
    "        for i2, j2 in itertools.product(range(n), range(n)):\n",
    "            left_side += p[ki,i2,j2,i1,j1] - p[ki,i1,j1,i2,j2]\n",
    "        _ = m.addConstr(left_side == 0)\n",
    "\n",
    "# (14) Ensure that target capacity for each robot doesn't exceed |T|\n",
    "_ = m.addConstrs(p[ki,i1,j1,i2,j2] <= len(target_indices) * x[ki,i1,j1,i2,j2] for ki in range(k) for i1 in range(n) for j1 in range(n) for i2 in range(n) for j2 in range(n))\n"
   ]
  },
  {
   "cell_type": "code",
   "execution_count": 7,
   "id": "35064cd6-6979-4a7b-a73f-ea4e8f2ab89e",
   "metadata": {
    "ExecuteTime": {
     "end_time": "2023-11-02T01:31:40.144778Z",
     "start_time": "2023-11-02T01:31:40.141522Z"
    },
    "collapsed": false,
    "jupyter": {
     "outputs_hidden": false
    }
   },
   "outputs": [],
   "source": [
    "# Fuel Constraints (15), (16), (17), (18), (19), (20)\n",
    "# This includes adding another decision variable\n",
    "from queue import PriorityQueue\n",
    "import math\n",
    "import itertools\n",
    "#https://www.redblobgames.com/pathfinding/a-star/implementation.html#python-astar\n",
    "\n",
    "def neighbors(curr):\n",
    "    ns = [(curr[0]+1, curr[1]), (curr[0]-1, curr[1]), (curr[0], curr[1]+1), (curr[0], curr[1]-1), (curr[0]+1, curr[1]+1), (curr[0]-1, curr[1]-1), (curr[0]+1, curr[1]-1), (curr[0]-1, curr[1]+1)]\n",
    "    \n",
    "    neighbors = []\n",
    "    for neighbor in ns:\n",
    "        if neighbor[0] <= n-1 and neighbor[0] >= 0 and neighbor[1] <= n-1 and neighbor[1] >= 0:    \n",
    "            neighbors.append(neighbor)\n",
    "    return neighbors\n",
    "\n",
    "#there are absolutely better ways to do this, this is just the one that took me 10 minutes to do.\n",
    "def a_star_search(i1, j1, i2, j2):\n",
    "    frontier = PriorityQueue()\n",
    "    frontier.put((i1,j1), 0)\n",
    "    came_from = dict()\n",
    "    cost_so_far = dict()\n",
    "    came_from[(i1,j1)] = None\n",
    "    cost_so_far[(i1,j1)] = 0\n",
    "    \n",
    "    \n",
    "    while not frontier.empty():\n",
    "        current = frontier.get()\n",
    "        if current == (i2, j2):\n",
    "            break\n",
    "\n",
    "        for next in neighbors(current):\n",
    "            new_cost = cost_so_far[current] + math.dist(current, next)\n",
    "            if next not in cost_so_far or new_cost < cost_so_far[next]:\n",
    "                cost_so_far[next] = new_cost\n",
    "                priority = new_cost #+ math.dist(next, (i2,j2))\n",
    "                frontier.put(next, priority)\n",
    "                came_from[next] = current\n",
    "                \n",
    "    curr_val = (i2, j2)\n",
    "    final_path = []\n",
    "    while curr_val != (i1, j1):\n",
    "        final_path.append(curr_val)\n",
    "        curr_val = came_from[curr_val]\n",
    "            \n",
    "    final_path.append((i1, j1))\n",
    "    final_path.reverse()\n",
    "    \n",
    "    return final_path\n",
    "\n",
    "# Fuel Constraints (15), (16), (17), (18), (19), (20)\n",
    "# This includes adding another decision variable\n",
    "r = m.addMVar((k,n,n), name='r', vtype=GRB.INTEGER, lb=0, ub=L)  # (20)\n",
    "\n",
    "\n",
    "for i1, j1 in target_indices:\n",
    "    for i2, j2 in target_indices:\n",
    "        fij = len(a_star_search(i1,j1,i2,j2)) - 1\n",
    "        _ = m.addConstr(r[ki,i2,j2]-r[ki,i1,j1]+fij <= M*(1-x[ki,i1,j1,i2,j2])) #(15)\n",
    "        _ = m.addConstr(r[ki,i2,j2]-r[ki,i1,j1]+fij >= -M*(1-x[ki,i1,j1,i2,j2])) #(16)\n",
    "\n",
    "        for depot in depot_indices:\n",
    "            if i1 == depot[0] and j1 == depot[1]: #i1,j1 are depots\n",
    "                fij_d = len(a_star_search(i1,j1,i2,j2)) - 1\n",
    "                _ = m.addConstr(r[ki,i2,j2]-L+fij_d >= -M*(1-x[ki,i1,j1,i2,j2])) #(17)\n",
    "                _ = m.addConstr(r[ki,i2,j2]-L+fij_d <= M*(1-x[ki,i1,j1,i2,j2])) #(18)\n",
    "            if i2 == depot[0] and j2 == depot[1]: #i2,j2 are depots\n",
    "                fij_d = len(a_star_search(i1,j1i2,j2)) - 1\n",
    "                _ = m.addConstr(r[ki,i1,j1]-fij_d >= -M*(1-x[ki,i1,j1,i2,j2])) #(19)\n"
   ]
  },
  {
   "cell_type": "code",
   "execution_count": 8,
   "id": "063449c7",
   "metadata": {
    "ExecuteTime": {
     "end_time": "2023-11-14T19:37:38.682637Z",
     "start_time": "2023-11-14T19:34:59.430004Z"
    },
    "collapsed": false,
    "jupyter": {
     "outputs_hidden": false
    }
   },
   "outputs": [
    {
     "name": "stdout",
     "output_type": "stream",
     "text": [
      "Gurobi Optimizer version 10.0.3 build v10.0.3rc0 (linux64)\n",
      "\n",
      "CPU model: 11th Gen Intel(R) Core(TM) i7-1165G7 @ 2.80GHz, instruction set [SSE2|AVX|AVX2|AVX512]\n",
      "Thread count: 4 physical cores, 8 logical processors, using up to 8 threads\n",
      "\n",
      "Academic license - for non-commercial use only - registered to cecummings@wpi.edu\n",
      "Optimize a model with 1905 rows, 1633 columns and 9075 nonzeros\n",
      "Model fingerprint: 0x69f9366c\n",
      "Variable types: 49 continuous, 1584 integer (0 binary)\n",
      "Coefficient statistics:\n",
      "  Matrix range     [7e-01, 1e+01]\n",
      "  Objective range  [1e+00, 1e+00]\n",
      "  Bounds range     [4e+00, 1e+01]\n",
      "  RHS range        [1e+00, 1e+01]\n",
      "Presolve removed 797 rows and 180 columns\n",
      "Presolve time: 0.04s\n",
      "Presolved: 1108 rows, 1453 columns, 8010 nonzeros\n",
      "Variable types: 1 continuous, 1452 integer (702 binary)\n",
      "Found heuristic solution: objective 30.4678396\n",
      "Found heuristic solution: objective 24.8576674\n",
      "\n",
      "Root relaxation: objective 3.210827e+00, 756 iterations, 0.02 seconds (0.02 work units)\n",
      "\n",
      "    Nodes    |    Current Node    |     Objective Bounds      |     Work\n",
      " Expl Unexpl |  Obj  Depth IntInf | Incumbent    BestBd   Gap | It/Node Time\n",
      "\n",
      "     0     0    3.21083    0   68   24.85767    3.21083  87.1%     -    0s\n",
      "H    0     0                       9.6523370    3.21083  66.7%     -    0s\n",
      "H    0     0                       8.8472964    3.21083  63.7%     -    0s\n",
      "     0     0    3.21083    0   92    8.84730    3.21083  63.7%     -    0s\n",
      "H    0     0                       6.7190036    3.21083  52.2%     -    0s\n",
      "     0     0    3.21083    0   93    6.71900    3.21083  52.2%     -    0s\n",
      "     0     0    3.21707    0  121    6.71900    3.21707  52.1%     -    0s\n",
      "     0     0    3.22238    0  130    6.71900    3.22238  52.0%     -    0s\n",
      "H    0     0                       6.4741799    3.22238  50.2%     -    0s\n",
      "H    0     0                       5.0075132    3.24088  35.3%     -    0s\n",
      "     0     0    3.24088    0  144    5.00751    3.24088  35.3%     -    0s\n",
      "     0     0    3.24348    0  146    5.00751    3.24348  35.2%     -    0s\n",
      "     0     0    3.25416    0  142    5.00751    3.25416  35.0%     -    0s\n",
      "     0     0    3.25506    0  153    5.00751    3.25506  35.0%     -    0s\n",
      "     0     0    3.25595    0  154    5.00751    3.25595  35.0%     -    0s\n",
      "     0     0    3.25609    0  149    5.00751    3.25609  35.0%     -    0s\n",
      "     0     0    3.25939    0  141    5.00751    3.25939  34.9%     -    0s\n",
      "     0     0    3.26024    0  147    5.00751    3.26024  34.9%     -    0s\n",
      "     0     0    3.26062    0  158    5.00751    3.26062  34.9%     -    1s\n",
      "     0     0    3.26064    0  159    5.00751    3.26064  34.9%     -    1s\n",
      "     0     0    3.26098    0  153    5.00751    3.26098  34.9%     -    1s\n",
      "H    0     0                       4.4000000    3.26112  25.9%     -    1s\n",
      "     0     0    3.26112    0  153    4.40000    3.26112  25.9%     -    1s\n",
      "     0     0    3.26113    0  157    4.40000    3.26113  25.9%     -    1s\n",
      "     0     0    3.26113    0  151    4.40000    3.26113  25.9%     -    1s\n",
      "     0     2    3.26182    0  149    4.40000    3.26182  25.9%     -    1s\n",
      "H   62    61                       3.9704233    3.28700  17.2%   126    1s\n",
      "  1000   494     cutoff   13         3.97042    3.45059  13.1%  64.7    5s\n",
      "  3494   943     cutoff   18         3.97042    3.60552  9.19%  54.2   10s\n",
      "  4615  1073    3.64129   22   78    3.97042    3.64129  8.29%  53.8   15s\n",
      "  6632   452     cutoff   30         3.97042    3.70359  6.72%  54.8   20s\n",
      "\n",
      "Explored 7127 nodes (388227 simplex iterations) in 20.64 seconds (11.19 work units)\n",
      "Thread count was 8 (of 8 available processors)\n",
      "\n",
      "Solution count 9: 3.97042 4.4 5.00751 ... 30.4678\n",
      "\n",
      "Optimal solution found (tolerance 1.00e-04)\n",
      "Best objective 3.970423279074e+00, best bound 3.970423279074e+00, gap 0.0000%\n"
     ]
    }
   ],
   "source": [
    "# Set objective function (3)\n",
    "_ = m.addConstrs(((1. + q_k) * cost * x[ki]).sum() <= p_max for ki in range(k))\n",
    "m.setObjective(p_max)\n",
    "\n",
    "m.optimize()\n",
    "\n",
    "#pr.disable()\n",
    "#s = io.StringIO()\n",
    "#sortby = SortKey.TIME\n",
    "#ps = pstats.Stats(pr, stream=s).sort_stats(sortby)\n",
    "#ps.print_stats()\n",
    "#print(s.getvalue())"
   ]
  },
  {
   "cell_type": "code",
   "execution_count": 9,
   "id": "ae584898",
   "metadata": {
    "ExecuteTime": {
     "end_time": "2023-11-14T19:30:56.215727Z",
     "start_time": "2023-11-14T19:30:56.212714Z"
    },
    "collapsed": false,
    "jupyter": {
     "outputs_hidden": false
    }
   },
   "outputs": [],
   "source": [
    "def visualize_paths_brute_force():\n",
    "    for ki in range(k):\n",
    "        print(f\"Robot #{ki}\\n-------\")\n",
    "        print(f\"Staring position: {B_k[ki]} -> {[nodes[0, B_k[ki, 0], B_k[ki, 1], 0], nodes[0, B_k[ki, 0], B_k[ki, 1], 1]]}\")\n",
    "        fig = plt.figure()\n",
    "        fig.suptitle(f\"Path for robot #{ki}\")\n",
    "        plt.scatter(nodes[0, :, :, 0], nodes[0, :, :, 1], c='blue', s=10)\n",
    "        plt.scatter(nodes[0, depot_indices[:, 0], depot_indices[:, 1], 0], nodes[0, depot_indices[:, 0], depot_indices[:, 1], 1], c='red', s=50)\n",
    "        plt.scatter(nodes[0, B_k[ki, 0], B_k[ki, 1], 0], nodes[0, B_k[ki, 0], B_k[ki, 1], 1], c='red', s=100)\n",
    "\n",
    "        for i1, j1, i2, j2 in itertools.product(range(n), range(n), range(n), range(n)):\n",
    "            # if i1 == i2 and j1 == j2:\n",
    "            #     continue\n",
    "            if x.x[ki,i1, j1, i2, j2]:\n",
    "                \n",
    "                # if not(i1 == i2 and j1 == j2):\n",
    "                # print(f\"Connection from {[i1,j1]} to {[i2,j2]}\")\n",
    "                plt.scatter(nodes[0, i1, j1, 0], nodes[0, i1, j1, 1], c=\"purple\", s=8)\n",
    "                plt.scatter(nodes[0, i2, j2, 0], nodes[0, i2, j2, 1], c=\"purple\", s=8)\n",
    "                plt.plot([nodes[0, i1, j1, 0], nodes[0, i2, j2, 0]], [nodes[0, i1, j1, 1], nodes[0, i2, j2, 1]], color=\"purple\", linewidth=1)\n",
    "\n",
    "        plt.grid()\n",
    "        plt.show()"
   ]
  },
  {
   "cell_type": "code",
   "execution_count": 10,
   "id": "5de61c7d",
   "metadata": {
    "ExecuteTime": {
     "end_time": "2023-11-14T19:30:56.233693Z",
     "start_time": "2023-11-14T19:30:56.220772Z"
    },
    "collapsed": false,
    "jupyter": {
     "outputs_hidden": false
    }
   },
   "outputs": [],
   "source": [
    "def get_next_node(edges, node):\n",
    "    for i1, j1 in itertools.product(range(n), range(n)):\n",
    "        if edges[node[0],node[1],i1, j1]:\n",
    "            return (i1,j1)\n",
    "    return None\n",
    "\n",
    "def visualize_paths_faster():\n",
    "    for ki in range(k):\n",
    "        print(f\"Robot #{ki}\\n-------\")\n",
    "        print(f\"Staring position: {B_k[ki]} -> {[nodes[0, B_k[ki, 0], B_k[ki, 1], 0], nodes[0, B_k[ki, 0], B_k[ki, 1], 1]]}\")\n",
    "        fig = plt.figure()\n",
    "        fig.suptitle(f\"Path for robot #{ki}\")\n",
    "        plt.scatter(nodes[0, :, :, 0], nodes[0, :, :, 1], c='blue', s=10)\n",
    "        plt.scatter(nodes[0, depot_indices[:, 0], depot_indices[:, 1], 0], nodes[0, depot_indices[:, 0], depot_indices[:, 1], 1], c='red', s=50)\n",
    "        plt.scatter(nodes[0, B_k[ki, 0], B_k[ki, 1], 0], nodes[0, B_k[ki, 0], B_k[ki, 1], 1], c='red', s=100)\n",
    "\n",
    "        counter = 0\n",
    "        max_path_length = len(target_indices)\n",
    "        prev_node = (B_k[ki][0], B_k[ki][1])\n",
    "        print(f\"{prev_node}\", end=\"\")\n",
    "        while counter < max_path_length:\n",
    "            curr_node = get_next_node(x.x[ki], prev_node)\n",
    "            print(f\" -> {curr_node}\", end=\"\")\n",
    "            if curr_node is None:\n",
    "                print(\"Error: This is not a loop!\")\n",
    "\n",
    "            plt.scatter(nodes[0, prev_node[0], prev_node[1], 0], nodes[0, prev_node[0], prev_node[1], 1], c=\"purple\", s=8)\n",
    "            plt.plot([nodes[0, prev_node[0], prev_node[1], 0], nodes[0, curr_node[0], curr_node[1], 0]], [nodes[0, prev_node[0], prev_node[1], 1], nodes[0, curr_node[0], curr_node[1], 1]], color=\"purple\", linewidth=1)\n",
    "\n",
    "            if curr_node == (B_k[ki][0], B_k[ki][1]):\n",
    "                break\n",
    "            prev_node = curr_node\n",
    "            counter += 1\n",
    "\n",
    "\n",
    "        plt.grid()\n",
    "        plt.show()"
   ]
  },
  {
   "cell_type": "code",
   "execution_count": 11,
   "id": "d8cf626d",
   "metadata": {
    "ExecuteTime": {
     "end_time": "2023-11-14T19:30:57.732232Z",
     "start_time": "2023-11-14T19:30:56.225918Z"
    },
    "collapsed": false,
    "jupyter": {
     "outputs_hidden": false
    },
    "scrolled": true
   },
   "outputs": [
    {
     "name": "stdout",
     "output_type": "stream",
     "text": [
      "Robot #0\n",
      "-------\n",
      "Staring position: [0 0] -> [-1.0, -1.0]\n"
     ]
    },
    {
     "data": {
      "image/png": "[encoded data removed]",
      "text/plain": [
       "<Figure size 640x480 with 1 Axes>"
      ]
     },
     "metadata": {},
     "output_type": "display_data"
    },
    {
     "name": "stdout",
     "output_type": "stream",
     "text": [
      "Robot #1\n",
      "-------\n",
      "Staring position: [0 3] -> [-1.0, 1.0]\n"
     ]
    },
    {
     "data": {
      "image/png": "[encoded data removed]",
      "text/plain": [
       "<Figure size 640x480 with 1 Axes>"
      ]
     },
     "metadata": {},
     "output_type": "display_data"
    },
    {
     "name": "stdout",
     "output_type": "stream",
     "text": [
      "Robot #2\n",
      "-------\n",
      "Staring position: [3 0] -> [1.0, -1.0]\n"
     ]
    },
    {
     "data": {
      "image/png": "[encoded data removed]",
      "text/plain": [
       "<Figure size 640x480 with 1 Axes>"
      ]
     },
     "metadata": {},
     "output_type": "display_data"
    },
    {
     "name": "stdout",
     "output_type": "stream",
     "text": [
      "4\n"
     ]
    }
   ],
   "source": [
    "visualize_paths_brute_force()\n",
    "#visualize_paths_faster()\n",
    "print(L)"
   ]
  },
  {
   "cell_type": "code",
   "execution_count": null,
   "id": "ad2ce5e9-3181-4333-8d0c-b16db9bfc832",
   "metadata": {},
   "outputs": [],
   "source": []
  }
 ],
 "metadata": {
  "kernelspec": {
   "display_name": "Python 3 (ipykernel)",
   "language": "python",
   "name": "python3"
  },
  "language_info": {
   "codemirror_mode": {
    "name": "ipython",
    "version": 3
   },
   "file_extension": ".py",
   "mimetype": "text/x-python",
   "name": "python",
   "nbconvert_exporter": "python",
   "pygments_lexer": "ipython3",
   "version": "3.11.6"
  }
 },
 "nbformat": 4,
 "nbformat_minor": 5
}
