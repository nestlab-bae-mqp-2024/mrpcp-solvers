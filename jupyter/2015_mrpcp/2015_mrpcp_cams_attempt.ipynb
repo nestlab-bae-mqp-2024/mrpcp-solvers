{
 "cells": [
  {
   "cell_type": "code",
   "execution_count": 1,
   "id": "initial_id",
   "metadata": {
    "ExecuteTime": {
     "end_time": "2023-10-31T03:44:12.146116Z",
     "start_time": "2023-10-31T03:44:12.060074Z"
    },
    "collapsed": false,
    "jupyter": {
     "outputs_hidden": false
    }
   },
   "outputs": [
    {
     "name": "stdout",
     "output_type": "stream",
     "text": [
      "nodes.shape=(1, 10, 10, 2)\n",
      "B_k=array([0, 0])\n"
     ]
    },
    {
     "data": {
      "image/png": "[encoded data removed]",
      "text/plain": [
       "<Figure size 640x480 with 1 Axes>"
      ]
     },
     "metadata": {},
     "output_type": "display_data"
    }
   ],
   "source": [
    "from matplotlib import pyplot as plt\n",
    "from pprint import pp\n",
    "import numpy as np\n",
    "\n",
    "# Chose number of robots\n",
    "k = 1\n",
    "# Chose recharging proportionality constant\n",
    "q_k = 0.1  # This means that each robot will need to charge for 10 minutes for every 100 minutes travelled\n",
    "# Chose the number of nodes in an axis\n",
    "n = 10\n",
    "# Create a uniform (n, n, 2) numpy grid for MAXIMUM SPEED\n",
    "nodes = np.mgrid[-1:1:n * 1j, -1.:1:n * 1j]\n",
    "nodes = nodes.reshape(nodes.shape + (1,))\n",
    "nodes = np.concatenate((nodes[0], nodes[1]), axis=2)\n",
    "nodes = nodes.reshape((1,) + nodes.shape)\n",
    "nodes = np.concatenate([nodes for _ in range(k)], axis=0)\n",
    "print(f\"{nodes.shape=}\")\n",
    "\n",
    "# nodes = targets + depots\n",
    "# Note: If a node isn't a depot, it is a target\n",
    "\n",
    "# Specify depots\n",
    "## One depot node\n",
    "depots_i = np.array([[0, 0]])\n",
    "## Four depot nodes (one in each corner)\n",
    "# depots_i = np.array([[0, 0], [0, n-1], [n-1, 0], [n-1,n-1]])\n",
    "\n",
    "# Chose starting depot node\n",
    "B_k = depots_i[0]\n",
    "print(f\"{B_k=}\")\n",
    "\n",
    "# Graphical sanity check\n",
    "plt.figure()\n",
    "plt.scatter(nodes[0,:,:,0], nodes[0,:,:,1], c='blue', s=10)\n",
    "plt.scatter(nodes[0,depots_i[:,0],depots_i[:,1],0], nodes[0,depots_i[:,0],depots_i[:,1], 1], c='red', s=50)\n",
    "plt.grid()\n",
    "plt.show()"
   ]
  },
  {
   "cell_type": "code",
   "execution_count": 3,
   "id": "268cd022e8f52ee4",
   "metadata": {
    "ExecuteTime": {
     "end_time": "2023-10-31T03:44:13.213415Z",
     "start_time": "2023-10-31T03:44:13.186257Z"
    },
    "collapsed": false,
    "jupyter": {
     "outputs_hidden": false
    }
   },
   "outputs": [
    {
     "name": "stdout",
     "output_type": "stream",
     "text": [
      "cost.shape=(1, 10, 10, 10, 10)\n"
     ]
    }
   ],
   "source": [
    "import itertools\n",
    "\n",
    "# Calculate c_{i1,j1,i2,j2} (c[i1, j1, i2, j2] is the cost (including recharging, q_k) from TARGET and DEPOT nodes (i1, j1) to (i2, j2))\n",
    "cost = np.zeros((n,n,n,n))\n",
    "for i1, j1, i2, j2 in itertools.product(range(n), range(n), range(n), range(n)):\n",
    "    cost[i1,j1,i2,j2] = (1. + q_k) * np.sqrt((nodes[0,i1,j1,0]-nodes[0,i2,j2,0]) ** 2 + (nodes[0,i1,j1,1]-nodes[0,i2,j2,1]) ** 2)\n",
    "    # print(f\"({i1},{j1},{i2},{j2}):({targets[i1,j1,0]},{targets[i1,j1,1]},{targets[i2,j2,0]},{targets[i2,j2,1]}): {target_cost[i1,j1,i2,j2]}\")\n",
    "cost = cost.reshape((1,) + cost.shape)\n",
    "cost = np.concatenate([cost for _ in range(k)], axis=0)\n",
    "print(f\"{cost.shape=}\")\n"
   ]
  },
  {
   "cell_type": "code",
   "execution_count": 4,
   "id": "6b99b48560729e56",
   "metadata": {
    "ExecuteTime": {
     "end_time": "2023-10-31T03:44:16.231429Z",
     "start_time": "2023-10-31T03:44:14.304732Z"
    },
    "collapsed": false,
    "jupyter": {
     "outputs_hidden": false
    }
   },
   "outputs": [],
   "source": [
    "import gurobipy as gp\n",
    "from gurobipy import GRB\n",
    "\n",
    "m = gp.Model()\n",
    "\n",
    "# Set the OBJECTIVE FUNCTION\n",
    "# ((1+q_k) * c_{ij}) * x^{k}_{ij}\n",
    "x = m.addMVar((k,n,n,n,n), name='x', vtype=GRB.INTEGER, lb=0, ub=int(n*n-len(depots_i)), obj=cost)\n",
    "for i1, j1, i2, j2 in itertools.product(range(n), range(n), range(n), range(n)):\n",
    "    is_depot_involved = False\n",
    "    for depots_ii in depots_i:\n",
    "        if (depots_ii[0] == i1 and depots_ii[1] == j1) or (depots_ii[0] == i2 and depots_ii[1] == j2):\n",
    "            is_depot_involved = True\n",
    "            # print((i1, j1, i2, j2))\n",
    "            continue\n",
    "    if is_depot_involved:\n",
    "        continue\n",
    "    _ = m.addConstr(x[:,i1,j1,i2,j2] <= 1)\n",
    "# Above code handles A. Integer Constraints (4) and (5)\n"
   ]
  },
  {
   "cell_type": "code",
   "execution_count": 5,
   "id": "ca912f4337f21993",
   "metadata": {
    "ExecuteTime": {
     "end_time": "2023-10-31T03:44:42.141739Z",
     "start_time": "2023-10-31T03:44:42.007266Z"
    },
    "collapsed": false,
    "jupyter": {
     "outputs_hidden": false
    }
   },
   "outputs": [],
   "source": [
    "# B. Degree Constraints (6), (7), (8), (9), (10)\n",
    "# (6) and (7) Only one robot arrives to and leaves from a target (B_k is a depot, so we don't need to remove it from targets)\n",
    "for i1, j1 in itertools.product(range(n), range(n)):\n",
    "    is_depot_involved = False\n",
    "    for depots_ii in depots_i:\n",
    "        if depots_ii[0] == i1 and depots_ii[1] == j1:\n",
    "            is_depot_involved = True\n",
    "            continue\n",
    "    if is_depot_involved:\n",
    "        continue\n",
    "    _ = m.addConstr(x[:,i1,j1,:,:].sum() == 1)\n",
    "    _ = m.addConstr(x[:,:,:,i1,j1].sum() == 1)\n",
    "# (8) and (9) Begin and end at same position B_k\n",
    "_ = m.addConstrs(x[ki,B_k[0],B_k[1],:,:].sum() <= 1 for ki in range(k))\n",
    "_ = m.addConstrs(x[ki,:,:,B_k[0],B_k[1]].sum() <= 1 for ki in range(k))\n",
    "# (10) Every robot that visits a target leaves the target\n",
    "_ = m.addConstrs(x[ki,:,:,i1,j1]-x[ki,i1,j1,:,:] == 0 for ki in range(k) for i1 in range(n) for j1 in range(n))\n"
   ]
  },
  {
   "cell_type": "code",
   "execution_count": 6,
   "id": "4e5d9705787100de",
   "metadata": {
    "ExecuteTime": {
     "end_time": "2023-10-31T03:44:50.565722Z",
     "start_time": "2023-10-31T03:44:50.561066Z"
    },
    "collapsed": false,
    "jupyter": {
     "outputs_hidden": false
    }
   },
   "outputs": [],
   "source": [
    "# C. Degree Constraints (11), (12), (13), (14)\n",
    "# This may be a lazy constraint because it is about sub tour elimination.\n",
    "# C. Degree Constraints (11), (12), (13), (14)\n",
    "# This may be a lazy constraint because it is about sub tour elimination.\n",
    "p = m.addMVar((n,n,n,n), name='p', vtype=GRB.INTEGER)\n",
    "#(11)\n",
    "for ki in range(k):\n",
    "    _ = m.addConstr((p[B_k[0], B_k[1], :, :] - p[:, :, B_k[0], B_k[1]]).sum() == x[ki,1:,1:,:,:].sum()) #this line will no longer work as intended if starting pos/depot is at a different position than [0,0]\n",
    "#(12)\n",
    "    _ = m.addConstr((p[i1, j1, :, :] - p[:, :, i1, j1]).sum() == x[ki,1:,1:,:,:].sum()) #this line will no longer work as intended if starting pos/depot is at a different position than [0,0]\n",
    "#(13)\n",
    "    for d in depots_i:\n",
    "        _ = m.addConstr((p[:, :, d[0], d[1]] - p[d[0], d[1], :, :]).sum() == 0)\n",
    "\n",
    "    _ = m.addConstrs(p[i1,j1,:,:] >= 0 for ki in range(k) for i1 in range(n) for j1 in range(n))\n",
    "    _ = m.addConstrs(p[i1,j1,:,:] <= fuel_capacity*x[ki,i1,j1,:,:] for ki in range(k) for i1 in range(n) for j1 in range(n))\n",
    "    \n",
    "        for next in neighbors(current):\n",
    "            new_cost = cost_so_far[current] + math.dist(current, next)\n",
    "            if next not in cost_so_far or new_cost < cost_so_far[next]:\n",
    "                cost_so_far[next] = new_cost\n",
    "                priority = new_cost #+ math.dist(next, (i2,j2))\n",
    "                frontier.put(next, priority)\n",
    "                came_from[next] = current\n",
    "                \n",
    "    curr_val = (i2, j2)\n",
    "    final_path = []\n",
    "    while curr_val != (i1, j1):\n",
    "        final_path.append(curr_val)\n",
    "        curr_val = came_from[curr_val]\n",
    "            \n",
    "    final_path.append((i1, j1))\n",
    "    final_path.reverse()\n",
    "    \n",
    "    return final_path\n",
    "# Fuel Constraints (15), (16), (17), (18), (19), (20)\n",
    "# This includes adding another decision variable\n",
    "ri = model.addVar(1, name='ri', vtype=GRB.INTEGER)\n",
    "rj = model.addVar(1, name='rj', vtype=GRB.INTEGER)\n",
    "\n",
    "for i1, j1, i2, j2 in itertools.product(range(n), range(n), range(n), range(n)):\n",
    "    fij = len(a_star_search(i1,j1,i2,j2))\n",
    "    _ = model.addConstr(rj-ri+fij <= (fuel_capacity+max_fuel_expenditure)*(1-x[:,i1,j1,:,:])) #(15)\n",
    "    _ = model.addConstr(rj-ri+fij >= -(fuel_capacity+max_fuel_expenditure)*(1-x[:,i1,j1,:,:])) #(16)\n",
    "\n",
    "    #(20)\n",
    "    _ = model.addConstr(0<=ri)\n",
    "    _ = model.addConstr(ri<=fuel_capacity)\n",
    "    for depot in depots_i:\n",
    "        if i1 == depot[0] and j1 == depot[1]:\n",
    "            _ = model.addConstr(rj-fuel_capacity+fij >= -(fuel_capacity+max_fuel_expenditure)*(1-x[:,i1,j1,depot[0],depot[1]])) #(17)\n",
    "            _ = model.addConstr(rj-fuel_capacity+fij <= (fuel_capacity+max_fuel_expenditure)*(1-x[:,i1,j1,depot[0],depot[1]])) #(18)\n",
    "        if i2 == depot[0] and j2 == depot[1]:\n",
    "            _ = model.addConstr(ri-fij >= -(fuel_capacity+max_fuel_expenditure)*(1-x[:,depot[0],depot[1],i2,j2])) #(19)"
   ]
  },
  {
   "cell_type": "code",
   "execution_count": 7,
   "id": "49b7a8d0e07406ff",
   "metadata": {
    "collapsed": false,
    "jupyter": {
     "outputs_hidden": false
    }
   },
   "outputs": [],
   "source": [
    "# Fuel Constraints (15), (16), (17), (18), (19), (20)\n",
    "# This includes adding another decision variable\n",
    "# Fuel Constraints (15), (16), (17), (18), (19), (20)\n",
    "# This includes adding another decision variable\n",
    "\n",
    "from queue import PriorityQueue\n",
    "import math\n",
    "import itertools\n",
    "#https://www.redblobgames.com/pathfinding/a-star/implementation.html#python-astar\n",
    "def neighbors(curr):\n",
    "    ns = [(curr[0]+1, curr[1]), (curr[0]-1, curr[1]), (curr[0], curr[1]+1), (curr[0], curr[1]-1), (curr[0]+1, curr[1]+1), (curr[0]-1, curr[1]-1), (curr[0]+1, curr[1]-1), (curr[0]-1, curr[1]+1)]\n",
    "    neighbors = []\n",
    "    for n in ns:\n",
    "        if n[0] <= 9 and n[0] >= 0 and n[1] <= 9 and n[1] >= 0:    \n",
    "            neighbors.append(n)\n",
    "    return neighbors\n",
    "\n",
    "#there are absolutely better ways to do this, this is just the one that took me 10 minutes to do.\n",
    "def a_star_search(i1, j1, i2, j2):\n",
    "    frontier = PriorityQueue()\n",
    "    frontier.put((i1,j1), 0)\n",
    "    came_from = dict()\n",
    "    cost_so_far = dict()\n",
    "    came_from[(i1,j1)] = None\n",
    "    cost_so_far[(i1,j1)] = 0\n",
    "    \n",
    "    \n",
    "    while not frontier.empty():\n",
    "        current = frontier.get()\n",
    "        if current == (i2, j2):\n",
    "            break\n"
   ]
  },
  {
   "cell_type": "code",
   "execution_count": 8,
   "id": "82810e23-18d0-455b-99f2-fa7f2777b1d5",
   "metadata": {},
   "outputs": [
    {
     "ename": "SyntaxError",
     "evalue": "incomplete input (3701877660.py, line 11)",
     "output_type": "error",
     "traceback": [
      "\u001b[0;36m  Cell \u001b[0;32mIn[8], line 11\u001b[0;36m\u001b[0m\n\u001b[0;31m    #\u001b[0m\n\u001b[0m     ^\u001b[0m\n\u001b[0;31mSyntaxError\u001b[0m\u001b[0;31m:\u001b[0m incomplete input\n"
     ]
    }
   ],
   "source": [
    "#V.A Cost Adjustment\n",
    "def shortest_path(i1,j1,i2,j2):\n",
    "   #DIJKSTRA\n",
    "    \n",
    "def cost_adjustment():\n",
    "  for i1, j1, i2, j2 in itertools.product(range(n), range(n), range(n), range(n)):\n",
    "      if [i1, j1] != [i2, j2]:\n",
    "          #Ci = min(cost from each depot to i)\n",
    "          #Bj = min(cost from j to each depot)\n",
    "          #cij <= fuel - Ci - Bj\n",
    "            #n_cij = cij\n",
    "          #else:\n",
    "            #Pij = shortest path from node 1 to depot to node 2\n",
    "            #cost[i1,j1,i2,j2] = len(Pij)\n",
    "          #\n"
   ]
  },
  {
   "cell_type": "code",
   "execution_count": null,
   "id": "efafb2ca-d9ad-4183-ad7d-c9e4781d9007",
   "metadata": {},
   "outputs": [],
   "source": [
    "#V.B: Suboptimal Hamiltonian Path\n",
    "\n",
    "#Kruskal's Algorithm to find Minimum Spanning Tree (MST) of a graph:\n",
    "#(1) sort all node connections by weight\n",
    "#(2) choose smallest\n",
    "        #if forms cycle, discard\n",
    "        #else, add to list\n",
    "     #repeat (2) until (# of nodes - 1) edges in the tree\n",
    "\n",
    "#returns MST based on Kruskal's algorithm\n",
    "def Kruskal_MST():\n",
    "    \n",
    "#paper's v of Christophides Algorithm:\n",
    "#(1) construct MST based on Kruskal's Algorithm\n",
    "#(2) graph (nodes+edges) G = MST U {start node, goal node}, cost from start node in MST to node = 0, same for goal, cost from start to goal node is infinite\n",
    "#(3) O = all nodes in G w/ odd number of vertices\n",
    "#(4) find minimum cost perfect matching (minimum possible cost graph where every node appears exactly once) M on O\n",
    "#(5) M U MST edges = Eulerian path, rm duplicate nodes and == Hamiltonian\n",
    "\n",
    "#returns hamiltonian path based on Christophides\n",
    "def Hamiltonian_planner():\n",
    "    "
   ]
  },
  {
   "cell_type": "code",
   "execution_count": 1,
   "id": "62f48eeb-b1e0-41f9-a9cb-6cca0383d17f",
   "metadata": {},
   "outputs": [],
   "source": [
    "#V.C: Splitting Algorithm\n",
    "\n",
    "def split(path, edges):\n",
    "    # removes edges from path, returns set of subpaths\n",
    "\n",
    "#takes in graph of edges, number to split to \n",
    "#returns n set of resulting paths\n",
    "def splitting(graph, n):\n",
    "#Lcrit = len(Hamiltonian_planner())/(n # of robots/# of desired paths)\n",
    "#e_sort = edges of Hamiltonian path H sorted by cost\n",
    "#e_rem = {}\n",
    "#S = []\n",
    "#for k in range(1:n-1):\n",
    "  #for ei in e_sort:\n",
    "     #S = S.append(split(H,e_rem U ei))\n",
    "     #n_req = 0\n",
    "     #for s in S:\n",
    "       #n_req = n_req + max(len(s)/Lcrit, 1)\n",
    "     #if n_req <= n\n",
    "       #e_sort = e_sort.remove(ei)\n",
    "       #e_rem = e_rem.append(ei)\n",
    "       #break\n",
    "#return split(H, e_rem)"
   ]
  },
  {
   "cell_type": "code",
   "execution_count": null,
   "id": "00cf4969-5035-460a-8391-3d252b69da6c",
   "metadata": {},
   "outputs": [],
   "source": [
    "#V.D assignment algorithm\n",
    "\n",
    "def assignment()\n",
    "  #run splitting() on all possible numbers of robots (1 - # of robots)\n",
    "  #choose the one that accomplishes the task 'fastest' (implemented here as {TODO}) \n",
    "\n",
    "  #find cost matrix D of size (# of robots x # of tours) of the chosen one\n",
    "  #cost = numpy.empty((len(robots), len(tours)))\n",
    "  #B = starting position (?)\n",
    "  #A = list of paths\n",
    "  #for i in robots:\n",
    "     #for j in tours:\n",
    "       #cost = length of going from starting position of robot to starting position of tour + length of tour + length of going from ending position of tour to starting position of robot\n",
    "  #use hungarian algorithm to find best option based on cost matrix"
   ]
  },
  {
   "cell_type": "code",
   "execution_count": null,
   "id": "afe64561-4531-4e14-9652-8bff95808057",
   "metadata": {},
   "outputs": [],
   "source": [
    "#V.E Strand Check\n",
    "\n",
    "#take your tours from above, turn into strands (except this is already done for us, because we only have one depot)\n",
    "#add going to depot detours in between every target\n",
    "#rm greedily until you can't remove any more\n"
   ]
  },
  {
   "cell_type": "code",
   "execution_count": 1,
   "id": "8865e20d-5c3c-4aae-a906-ddf66be8b84f",
   "metadata": {},
   "outputs": [],
   "source": []
  },
  {
   "cell_type": "code",
   "execution_count": null,
   "id": "c6f95521-ac5a-4bf5-9a8d-83e2723fdc88",
   "metadata": {},
   "outputs": [],
   "source": []
  }
 ],
 "metadata": {
  "kernelspec": {
   "display_name": "Python 3 (ipykernel)",
   "language": "python",
   "name": "python3"
  },
  "language_info": {
   "codemirror_mode": {
    "name": "ipython",
    "version": 3
   },
   "file_extension": ".py",
   "mimetype": "text/x-python",
   "name": "python",
   "nbconvert_exporter": "python",
   "pygments_lexer": "ipython3",
   "version": "3.11.6"
  }
 },
 "nbformat": 4,
 "nbformat_minor": 5
}
