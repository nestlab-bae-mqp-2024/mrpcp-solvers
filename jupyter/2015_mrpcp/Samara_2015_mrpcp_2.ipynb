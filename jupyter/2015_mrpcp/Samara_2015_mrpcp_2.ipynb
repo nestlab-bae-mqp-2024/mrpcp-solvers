{
 "cells": [
  {
   "cell_type": "code",
   "execution_count": 17,
   "id": "0e1ed6c4-de49-4f9f-b3e3-ac37f0771f40",
   "metadata": {
    "ExecuteTime": {
     "end_time": "2023-11-26T22:24:01.326882900Z",
     "start_time": "2023-11-26T22:24:01.211675100Z"
    }
   },
   "outputs": [
    {
     "name": "stdout",
     "output_type": "stream",
     "text": [
      "nodes.shape=(4, 6, 6, 2)\n"
     ]
    },
    {
     "data": {
      "text/plain": "<Figure size 640x480 with 1 Axes>",
      "image/png": "[encoded data removed]"
     },
     "metadata": {},
     "output_type": "display_data"
    }
   ],
   "source": [
    "from matplotlib import pyplot as plt\n",
    "import numpy as np\n",
    "\n",
    "# Chose number of robots\n",
    "k = 4\n",
    "# Chose recharging proportionality constant\n",
    "q_k = 0.1 # This means that each robot will need to charge for 10 minutes for every 100 minutes travelled\n",
    "# Chose the number of nodes in an axis\n",
    "n = 6\n",
    "# Create a uniform (n, n, 2) numpy grid for MAXIMUM SPEED\n",
    "nodes = np.mgrid[-1:1:n * 1j, -1.:1:n * 1j]\n",
    "nodes = nodes.reshape(nodes.shape + (1,))\n",
    "nodes = np.concatenate((nodes[0], nodes[1]), axis=2)\n",
    "nodes = nodes.reshape((1,) + nodes.shape)\n",
    "nodes = np.concatenate([nodes for _ in range(k)], axis=0)\n",
    "print(f\"{nodes.shape=}\")\n",
    "\n",
    "# nodes = targets + depots\n",
    "# Note: If a node isn't a depot, it is a target\n",
    "\n",
    "## One depot node\n",
    "depot_indices = np.array([[0, 0]])\n",
    "\n",
    "target_indices = []\n",
    "for i in range(n):\n",
    "    for j in range(n):\n",
    "        is_depot = False\n",
    "        for depot in depot_indices:\n",
    "            if i == depot[0] and j == depot[1]:\n",
    "                is_depot = True\n",
    "                continue\n",
    "        if not is_depot:\n",
    "            target_indices.append([i,j])\n",
    "target_indices = np.array(target_indices)\n",
    "# print(f\"{target_indices=}\")\n",
    "\n",
    "# Chose starting depot node\n",
    "B_k = np.tile(depot_indices, (k, 1))\n",
    "# B_k = depot_indices[0]\n",
    "# print(f\"{B_k=}\")\n",
    "\n",
    "# Graphical sanity check\n",
    "plt.figure()\n",
    "plt.scatter(nodes[0,:,:,0], nodes[0,:,:,1], c='blue', s=10)\n",
    "plt.scatter(nodes[0,depot_indices[:,0],depot_indices[:,1],0], nodes[0,depot_indices[:,0],depot_indices[:,1], 1], c='red', s=50)\n",
    "plt.grid()\n",
    "plt.show()"
   ]
  },
  {
   "cell_type": "code",
   "execution_count": 18,
   "id": "1da2ece0-57a2-4800-a08a-c73b4774e3cc",
   "metadata": {
    "ExecuteTime": {
     "end_time": "2023-11-26T22:24:01.402881600Z",
     "start_time": "2023-11-26T22:24:01.329884800Z"
    }
   },
   "outputs": [
    {
     "name": "stdout",
     "output_type": "stream",
     "text": [
      "cost.shape=(6, 6, 6, 6)\n"
     ]
    }
   ],
   "source": [
    "import itertools\n",
    "\n",
    "# Calculate c_{i1,j1,i2,j2} (c[i1, j1, i2, j2] is the cost (including recharging, q_k) from TARGET and DEPOT nodes (i1, j1) to (i2, j2))\n",
    "cost = np.zeros((n,n,n,n))\n",
    "for i1, j1, i2, j2 in itertools.product(range(n), range(n), range(n), range(n)):\n",
    "    cost[i1,j1,i2,j2] = np.sqrt((nodes[0,i1,j1,0]-nodes[0,i2,j2,0]) ** 2 + (nodes[0,i1,j1,1]-nodes[0,i2,j2,1]) ** 2)\n",
    "    # print(f\"({i1},{j1},{i2},{j2}):({targets[i1,j1,0]},{targets[i1,j1,1]},{targets[i2,j2,0]},{targets[i2,j2,1]}): {target_cost[i1,j1,i2,j2]}\")\n",
    "print(f\"{cost.shape=}\")"
   ]
  },
  {
   "cell_type": "code",
   "execution_count": 19,
   "id": "9f8e0368-5ed7-4f9a-9ed4-da1f514396c1",
   "metadata": {
    "ExecuteTime": {
     "end_time": "2023-11-26T22:24:02.081976100Z",
     "start_time": "2023-11-26T22:24:01.341882500Z"
    }
   },
   "outputs": [],
   "source": [
    "import gurobipy as gp\n",
    "from gurobipy import GRB\n",
    "import itertools\n",
    "\n",
    "m = gp.Model()\n",
    "\n",
    "# A. Integer Constraints (4), (5)\n",
    "x = m.addMVar((k, n, n, n, n), name='x', vtype=GRB.INTEGER, lb=0, ub=len(target_indices))\n",
    "\n",
    "# Additional Constraints\n",
    "# _ = m.addConstrs(x[:, :, :, i1, j1].sum() >= 1 for i1, j1 in target_indices)  # visited AT LEAST once\n",
    "_ = m.addConstrs(gp.quicksum(x[:, :, :, i1, j1]) == 1 for i1, j1 in target_indices) # visited once\n",
    "\n",
    "# Ensure that for each pair of nodes (i1, j1) and (i2, j2), at most one robot can go from (i1, j1) to (i2, j2)\n",
    "for i1, j1, i2, j2 in itertools.product(range(n), range(n), range(n), range(n)):\n",
    "    are_both_depot = any((d1[0] == i1 and d1[1] == j1) and (d2[0] == i2 and d2[1] == j2) for d1 in depot_indices for d2 in depot_indices)\n",
    "    if not are_both_depot:\n",
    "        for ki in range(k):\n",
    "            _ = m.addConstr(gp.quicksum(x[ki, :, :, i2, j2]) <= 1)\n"
   ]
  },
  {
   "cell_type": "code",
   "execution_count": 20,
   "id": "b3a5914c-7892-44a8-952d-80e85f516161",
   "metadata": {
    "ExecuteTime": {
     "end_time": "2023-11-26T22:24:02.191946500Z",
     "start_time": "2023-11-26T22:24:02.081976100Z"
    }
   },
   "outputs": [],
   "source": [
    "# B. Degree Constraints (6), (7), (8), (9), (10)\n",
    "# (6) and (7) Only one robot arrives and leaves from a target\n",
    "_ = m.addConstrs(x[:, i1, j1, :, :].sum() == 1 for i1, j1 in target_indices)\n",
    "_ = m.addConstrs(x[:, :, :, i1, j1].sum() == 1 for i1, j1 in target_indices)\n",
    "\n",
    "for ki in range(k):\n",
    "    # (8) and (9) Begin and end at the same position B_k\n",
    "    _ = m.addConstr(x[ki, B_k[ki, 0], B_k[ki, 1], :, :].sum() <= 1)\n",
    "    _ = m.addConstr(x[ki, :, :, B_k[ki, 0], B_k[ki, 1]].sum() <= 1)\n",
    "\n",
    "    # (10) Every robot that visits a target leaves the target\n",
    "    _ = m.addConstrs((x[ki, :, :, i1, j1] - x[ki, i1, j1, :, :]).sum() == 0 for i1 in range(n) for j1 in range(n))\n",
    "\n",
    "    # Additional constraint: no loopholes!\n",
    "    _ = m.addConstrs(x[ki, i, j, i, j] == 0 for i in range(n) for j in range(n))\n"
   ]
  },
  {
   "cell_type": "code",
   "execution_count": 21,
   "id": "0c4d0921-e960-4612-bed2-011b9e2a5e81",
   "metadata": {
    "ExecuteTime": {
     "end_time": "2023-11-26T22:24:07.479174900Z",
     "start_time": "2023-11-26T22:24:02.194979400Z"
    }
   },
   "outputs": [],
   "source": [
    "# C. Capacity and Flow Constraints (11), (12), (13), (14)\n",
    "p = m.addMVar((k, n, n, n, n), name='p', vtype=GRB.INTEGER, lb=0, ub=len(target_indices))\n",
    "\n",
    "for ki in range(k):\n",
    "    # (11) and (12) flow constraints\n",
    "    right_side = 0\n",
    "    for i1, j1 in target_indices:\n",
    "        for i2, j2 in itertools.product(range(n), range(n)):\n",
    "            right_side += x[ki, i1, j1, i2, j2]\n",
    "    _ = m.addConstr((p[ki, depot_indices[0, 0], depot_indices[0, 1], :, :] - p[ki, :, :, depot_indices[0, 0], depot_indices[0, 1]]).sum() == right_side)\n",
    "    _ = m.addConstrs((p[ki, :, :, i1, j1] - p[ki, i1, j1, :, :]).sum() == x[ki, i1, j1, :, :].sum() for i1, j1 in target_indices)\n",
    "\n",
    "    # (13) Make sure target capacity doesn't change when passing through a depot\n",
    "    # for i1, j1 in target_indices:\n",
    "    #     left_side = 0\n",
    "    #     for i2, j2 in depot_indices:\n",
    "    #         left_side += p[ki, i2, j2, i1, j1] - p[ki, i1, j1, i2, j2]\n",
    "    #     _ = m.addConstr(left_side == 0)\n",
    "\n",
    "    # (14) Ensure that target capacity for each robot doesn't exceed |T|\n",
    "    _ = m.addConstrs(p[ki, i1, j1, i2, j2] <= len(target_indices) * x[ki, i1, j1, i2, j2] for i1 in range(n) for j1 in range(n) for i2 in range(n) for j2 in range(n))\n"
   ]
  },
  {
   "cell_type": "code",
   "execution_count": 22,
   "id": "92054d2e-f7c0-4ec9-beaa-bb84180bef68",
   "metadata": {
    "ExecuteTime": {
     "end_time": "2023-11-26T22:24:21.865625500Z",
     "start_time": "2023-11-26T22:24:07.479174900Z"
    }
   },
   "outputs": [],
   "source": [
    "# D. Fuel Constraints (15), (16), (17), (18), (19), (20)\n",
    "L = np.sqrt(8) * 2  # Fuel capacity (1 unit of fuel = 1 unit of distance)\n",
    "M = L + np.sqrt(8)  # √8 is the max possible distance between our nodes (-1, -1) and (1, 1)\n",
    "r = m.addMVar((k, n, n), name='r', vtype=GRB.CONTINUOUS, lb=0, ub=L)  # (20)\n",
    "\n",
    "for ki in range(k):\n",
    "    # (15) and (16)\n",
    "    _ = m.addConstrs(r[ki, i2, j2] - r[ki, i1, j1] + cost[i1, j1, i2, j2] <= M * (1 - x[ki, i1, j1, i2, j2]) for i1, j1 in target_indices for i2, j2 in target_indices)\n",
    "    _ = m.addConstrs(r[ki, i2, j2] - r[ki, i1, j1] + cost[i1, j1, i2, j2] >= -M * (1 - x[ki, i1, j1, i2, j2]) for i1, j1 in target_indices for i2, j2 in target_indices)\n",
    "\n",
    "    # (17) and (18)\n",
    "    _ = m.addConstrs(r[ki, i2, j2] - L + cost[i1, j1, i2, j2] >= -M * (1 - x[ki, i1, j1, i2, j2]) for i1, j1 in depot_indices for i2, j2 in target_indices)\n",
    "    _ = m.addConstrs(r[ki, i2, j2] - L + cost[i1, j1, i2, j2] <= M * (1 - x[ki, i1, j1, i2, j2]) for i1, j1 in depot_indices for i2, j2 in target_indices)\n",
    "\n",
    "    # (19)\n",
    "    _ = m.addConstrs(r[ki, i1, j1] - cost[i1, j1, i2, j2] >= -M * (1 - x[ki, i2, j2, i1, j1]) for i1, j1 in target_indices for i2, j2 in depot_indices)\n"
   ]
  },
  {
   "cell_type": "code",
   "execution_count": 23,
   "id": "d43b334c-6fa8-4560-9892-4704c198d1e0",
   "metadata": {
    "ExecuteTime": {
     "end_time": "2023-11-26T22:24:22.073626300Z",
     "start_time": "2023-11-26T22:24:21.865625500Z"
    }
   },
   "outputs": [
    {
     "name": "stdout",
     "output_type": "stream",
     "text": [
      "Set parameter Presolve to value 0\n",
      "Set parameter Method to value 1\n",
      "Set parameter Crossover to value 0\n",
      "Set parameter MIPFocus to value 2\n",
      "Set parameter Heuristics to value 0.8\n",
      "Set parameter Cuts to value 3\n",
      "Set parameter BarHomogeneous to value 1\n",
      "No parameters matching 'SolutionPolish' found\n",
      "Gurobi Optimizer version 10.0.3 build v10.0.3rc0 (win64)\n",
      "\n",
      "CPU model: Intel(R) Core(TM) i9-10900K CPU @ 3.70GHz, instruction set [SSE2|AVX|AVX2]\n",
      "Thread count: 10 physical cores, 20 logical processors, using up to 20 threads\n",
      "Academic license 2421738 - for non-commercial use only - registered to sd___@wpi.edu\n",
      "Optimize a model with 48258 rows, 10513 columns and 277364 nonzeros\n",
      "Model fingerprint: 0x45c65585\n",
      "Variable types: 145 continuous, 10368 integer (0 binary)\n",
      "Coefficient statistics:\n",
      "  Matrix range     [4e-01, 4e+01]\n",
      "  Objective range  [1e+00, 1e+00]\n",
      "  Bounds range     [6e+00, 4e+01]\n",
      "  RHS range        [1e+00, 1e+01]\n",
      "Variable types: 145 continuous, 10368 integer (0 binary)\n",
      "\n",
      "Explored 0 nodes (0 simplex iterations) in 0.12 seconds (0.12 work units)\n",
      "Thread count was 20 (of 20 available processors)\n",
      "\n",
      "Solution count 0\n",
      "\n",
      "Model is infeasible\n",
      "Best objective -, best bound -, gap -\n",
      "No feasible solution found.\n"
     ]
    }
   ],
   "source": [
    "# Set objective function (3)\n",
    "p_max = m.addVar(vtype=GRB.CONTINUOUS, name=\"p_max\")\n",
    "_ = m.addConstrs((cost * x[ki]).sum() <= p_max for ki in range(k))\n",
    "m.setObjective(p_max)\n",
    "\n",
    "# Turn off presolve (default is usually ON, but experiment with this)\n",
    "m.Params.Presolve = 0\n",
    "\n",
    "# Set the method for solving LP relaxations\n",
    "m.Params.Method = 1  # Use the primal simplex method (other options: 0 - auto, 2 - dual simplex)\n",
    "\n",
    "# Set the barrier crossover parameter (if applicable)\n",
    "m.Params.Crossover = 0\n",
    "\n",
    "# Set the number of threads (if your license allows parallel computing)\n",
    "#m.Params.Threads = <number_of_threads>\n",
    "\n",
    "# Set the MIP focus to balance optimality and feasibility\n",
    "m.Params.MIPFocus = 2  # 0 (default) - balanced, 1 - feasible solutions, 2 - proven optimal solutions\n",
    "\n",
    "# Limit the number of explored nodes (trade-off between speed and optimality)\n",
    "#m.Params.NodeLimit = <max_number_of_nodes>\n",
    "\n",
    "# Limit the time Gurobi spends on optimization\n",
    "#m.Params.TimeLimit = <time_limit_in_seconds>\n",
    "\n",
    "# Enable heuristics to find good feasible solutions quickly\n",
    "m.Params.Heuristics = 0.8  # Adjust the parameter based on your preference\n",
    "\n",
    "# Enable aggressive probing (may help in finding feasible solutions quickly)\n",
    "m.Params.Cuts = 3  # 0 (default) - automatic, 1 - conservative, 2 - aggressive, 3 - very aggressive\n",
    "\n",
    "# Use BarHomogeneous algorithm (may be beneficial for certain types of models)\n",
    "m.Params.BarHomogeneous = 1\n",
    "\n",
    "# Increase the mip gap tolerance (trade-off between speed and optimality)\n",
    "#m.Params.MIPGap = <desired_mip_gap>\n",
    "\n",
    "# Disable solution polishing (may speed up the optimization process)\n",
    "m.Params.SolutionPolish = 0\n",
    "\n",
    "def visualize_paths_faster():\n",
    "    for ki in range(k):\n",
    "        print(f\"Robot #{ki}\\n-------\")\n",
    "        print(f\"Starting position: {B_k[ki]} -> {[nodes[0, B_k[ki, 0], B_k[ki, 1], 0], nodes[0, B_k[ki, 0], B_k[ki, 1], 1]]}\")\n",
    "        fig = plt.figure()\n",
    "        fig.suptitle(f\"Path for robot #{ki}\")\n",
    "        plt.scatter(nodes[0, :, :, 0], nodes[0, :, :, 1], c='blue', s=10)\n",
    "        plt.scatter(nodes[0, depot_indices[:, 0], depot_indices[:, 1], 0], nodes[0, depot_indices[:, 0], depot_indices[:, 1], 1], c='red', s=50)\n",
    "        plt.scatter(nodes[0, B_k[ki, 0], B_k[ki, 1], 0], nodes[0, B_k[ki, 0], B_k[ki, 1], 1], c='red', s=100)\n",
    "\n",
    "        counter = 0\n",
    "        max_path_length = len(target_indices)\n",
    "\n",
    "        prev_node = (B_k[ki][0], B_k[ki][1])\n",
    "        print(f\"{prev_node}\", end=\"\")\n",
    "\n",
    "        while counter < max_path_length:\n",
    "            curr_node = get_next_node(x, ki, prev_node)\n",
    "            print(f\" -> {curr_node}\", end=\"\")\n",
    "\n",
    "            plt.scatter(nodes[0, curr_node[0], curr_node[1], 0], nodes[0, curr_node[0], curr_node[1], 1], c=\"purple\", s=8)\n",
    "            plt.plot([nodes[0, prev_node[0], prev_node[1], 0], nodes[0, curr_node[0], curr_node[1], 0]],\n",
    "                     [nodes[0, prev_node[0], prev_node[1], 1], nodes[0, curr_node[0], curr_node[1], 1]], color=\"purple\", linewidth=1)\n",
    "\n",
    "            if curr_node == (B_k[ki][0], B_k[ki][1]):\n",
    "                break\n",
    "            prev_node = curr_node\n",
    "            counter += 1\n",
    "\n",
    "        plt.grid()\n",
    "        plt.show()\n",
    "\n",
    "def get_next_node(x, ki, node):\n",
    "    for i1, j1 in itertools.product(range(n), range(n)):\n",
    "        if x[ki, node[0], node[1], i1, j1].getAttr('x') > 0.5:\n",
    "            return i1, j1\n",
    "    return None\n",
    "\n",
    "# Optimize until the first optimal solution is found\n",
    "while True:\n",
    "    m.optimize()\n",
    "\n",
    "    # Check if a feasible solution is found\n",
    "    if m.status == GRB.OPTIMAL:\n",
    "        print(\"First optimal solution found.\")\n",
    "        # Add this part according to the names of your decision variables\n",
    "        x_values = m.getAttr('x', x)\n",
    "        p_values = m.getAttr('x', p)\n",
    "        r_values = m.getAttr('x', r)\n",
    "    \n",
    "        # Use the values as needed\n",
    "        try:\n",
    "            visualize_paths_faster()\n",
    "        except:\n",
    "            print(\"\\nCould not find path\")\n",
    "        break\n",
    "    elif m.status == GRB.INFEASIBLE:\n",
    "        print(\"No feasible solution found.\")\n",
    "        break\n",
    "    elif m.status == GRB.TIME_LIMIT:\n",
    "        print(\"Time limit reached. No optimal solution found within the specified time.\")\n",
    "        break"
   ]
  }
 ],
 "metadata": {
  "kernelspec": {
   "display_name": "Python 3 (ipykernel)",
   "language": "python",
   "name": "python3"
  },
  "language_info": {
   "codemirror_mode": {
    "name": "ipython",
    "version": 3
   },
   "file_extension": ".py",
   "mimetype": "text/x-python",
   "name": "python",
   "nbconvert_exporter": "python",
   "pygments_lexer": "ipython3",
   "version": "3.11.6"
  }
 },
 "nbformat": 4,
 "nbformat_minor": 5
}
