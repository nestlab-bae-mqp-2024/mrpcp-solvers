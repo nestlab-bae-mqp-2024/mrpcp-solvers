{
 "cells": [
  {
   "cell_type": "markdown",
   "id": "679af879-b5b7-4b8c-a61a-a62e5a432a15",
   "metadata": {},
   "source": [
    "# This basically a TSP (single-robot, no-failure, no-depletion)\n",
    "\n",
    "Consider nodes placed uniformly along X and Y axes like so."
   ]
  },
  {
   "cell_type": "code",
   "execution_count": 1,
   "id": "8b366722-57e8-4a2e-b8d6-56350cc2d53f",
   "metadata": {},
   "outputs": [
    {
     "name": "stdout",
     "output_type": "stream",
     "text": [
      "Requirement already satisfied: matplotlib in /opt/conda/lib/python3.11/site-packages (3.8.0)\n",
      "Requirement already satisfied: scipy in /opt/conda/lib/python3.11/site-packages (1.11.3)\n",
      "Requirement already satisfied: contourpy>=1.0.1 in /opt/conda/lib/python3.11/site-packages (from matplotlib) (1.1.1)\n",
      "Requirement already satisfied: cycler>=0.10 in /opt/conda/lib/python3.11/site-packages (from matplotlib) (0.12.0)\n",
      "Requirement already satisfied: fonttools>=4.22.0 in /opt/conda/lib/python3.11/site-packages (from matplotlib) (4.43.0)\n",
      "Requirement already satisfied: kiwisolver>=1.0.1 in /opt/conda/lib/python3.11/site-packages (from matplotlib) (1.4.5)\n",
      "Requirement already satisfied: numpy<2,>=1.21 in /opt/conda/lib/python3.11/site-packages (from matplotlib) (1.26.0)\n",
      "Requirement already satisfied: packaging>=20.0 in /opt/conda/lib/python3.11/site-packages (from matplotlib) (23.1)\n",
      "Requirement already satisfied: pillow>=6.2.0 in /opt/conda/lib/python3.11/site-packages (from matplotlib) (10.0.1)\n",
      "Requirement already satisfied: pyparsing>=2.3.1 in /opt/conda/lib/python3.11/site-packages (from matplotlib) (3.1.1)\n",
      "Requirement already satisfied: python-dateutil>=2.7 in /opt/conda/lib/python3.11/site-packages (from matplotlib) (2.8.2)\n",
      "Requirement already satisfied: six>=1.5 in /opt/conda/lib/python3.11/site-packages (from python-dateutil>=2.7->matplotlib) (1.16.0)\n",
      "Note: you may need to restart the kernel to use updated packages.\n"
     ]
    }
   ],
   "source": [
    "%pip install matplotlib scipy"
   ]
  },
  {
   "cell_type": "code",
   "execution_count": 2,
   "id": "775a4576-d143-410d-8269-3f4dc2d185b4",
   "metadata": {},
   "outputs": [
    {
     "data": {
      "image/png": "[encoded data removed]",
      "text/plain": [
       "<Figure size 640x480 with 1 Axes>"
      ]
     },
     "metadata": {},
     "output_type": "display_data"
    }
   ],
   "source": [
    "from matplotlib import pyplot as plt\n",
    "from pprint import pp\n",
    "import numpy as np\n",
    "\n",
    "# This implementation only works with n = 2 and 3. It fails 4 and onwards\n",
    "# Chose the number of nodes in an axis\n",
    "n = 10\n",
    "# Create a uniform (n, n, 2) numpy grid for MAXIMUM SPEED\n",
    "grid = np.mgrid[-1:1:n*1j, -1.:1:n*1j]\n",
    "grid = grid.reshape(grid.shape + (1,))\n",
    "grid = np.concatenate((grid[0], grid[1]), axis=2)\n",
    "# Sanity check\n",
    "# pp(grid)\n",
    "# pp(grid[:, :, 0].reshape(-1))\n",
    "# pp(grid[:, :, 1].reshape(-1))\n",
    "\n",
    "# Graphical sanity check\n",
    "plt.figure()\n",
    "plt.scatter(grid[:, :, 0], grid[:, :, 1])\n",
    "plt.grid()\n",
    "plt.show()"
   ]
  },
  {
   "cell_type": "markdown",
   "id": "021dee62-918c-4581-b03a-d534ad3246ce",
   "metadata": {},
   "source": [
    "## TSP Model Formulation\n",
    "\n",
    "### Sets and Indices\n",
    "$i, j \\in Nodes $: indices and set of nodes.\n",
    "\n",
    "$\\text{Edges}= \\{(i,j) \\in Nodes \\times Nodes \\}$: Set of allowed edges (All for now, so this is fully connected)\n",
    "\n",
    "$S \\subset Nodes$: A subset of the set of Nodes.\n",
    "\n",
    "$G = (Nodes, Edges)$: A graph where the set $Nodes$ defines the set of nodes and the set $Edges$ defines the set of edges.\n",
    "\n",
    "### Parameters\n",
    "\n",
    "$d_{i, j} \\in \\mathbb{R}^+$: Distance from node $i$ to node $j$, for all $(i, j) \\in Edges$.\n",
    "\n",
    "### Decision Variables\n",
    "$x_{i, j} \\in \\{0, 1\\}$: This variable is equal to 1, if we decide to connect node $i$ with node $j$. Otherwise, the decision variable is equal to zero.\n",
    "\n",
    "### Objective Function\n",
    "- **Shortest Route**. Minimize the total distance of a route. A route is a sequence of nodes where the robot visits each node only once and returns to the starting node. This forms a loop and the robot can follow this persistently. \n",
    "\n",
    "\\begin{equation}\n",
    "\\text{Min} \\quad Z = \\sum_{(i,j) \\in \\text{Edges}}d_{i,j} \\cdot x_{i,j}\n",
    "\\tag{0}\n",
    "\\end{equation}\n",
    "\n",
    "### Constraints\n",
    "- **Symmetry Constraints**. For each edge $(i,j)$ that is visited, make sure $(j,i)$ is also marked visited/crossed.\n",
    "\n",
    "\\begin{equation}\n",
    "x_{i, j} = x_{j, i} \\quad \\forall (i, j) \\in Edges\n",
    "\\tag{1}\n",
    "\\end{equation}\n",
    "\n",
    "- **Entering and leaving a node**. For each node $i$, ensure that this node is connected to two other nodes.\n",
    "\n",
    "\\begin{equation}\n",
    "\\sum_{(i,j) \\in \\text{Edges}}x_{i,j} = 2 \\quad \\forall  i \\in Nodes\n",
    "\\tag{2}\n",
    "\\end{equation}\n",
    "\n",
    "- **Subtour elimination**. These constraints ensure that for any subset of nodes $S$ of the set of $Nodes$, there is no cycle. That is, there is no route that visits all the nodes in the subset and returns to the origin node.\n",
    "\n",
    "\\begin{equation}\n",
    "\\sum_{(i \\neq j) \\in S}x_{i,j} \\leq |S|-1 \\quad \\forall  S \\subset  Nodes\n",
    "\\tag{3}\n",
    "\\end{equation}\n",
    "\n",
    "- **Remark**. In general, if the number of nodes of the TSP is $n$, then the possible number of routes is n\\!.\n",
    "Since there are an exponential number of constraints ($2^{n} - 2$) to eliminate cycles, we use lazy constraints to dynamically eliminate those cycles."
   ]
  },
  {
   "cell_type": "code",
   "execution_count": 3,
   "id": "7c193df2-b49d-4541-a361-c1a33934451b",
   "metadata": {},
   "outputs": [
    {
     "name": "stdout",
     "output_type": "stream",
     "text": [
      "Set parameter WLSAccessID\n",
      "Set parameter WLSSecret\n",
      "Set parameter LicenseID to value 2419685\n",
      "Academic license - for non-commercial use only - registered to luffs.ottoman04@icloud.com\n"
     ]
    }
   ],
   "source": [
    "import gurobipy as gp\n",
    "from gurobipy import GRB\n",
    "from itertools import combinations\n",
    "import itertools\n",
    "\n",
    "m = gp.Model()\n",
    "\n",
    "# Calculate d_{ij} (d[i1, j1, i2, j2] is the cost from node (i1, j1) to (i2, j2))\n",
    "coeffs = np.zeros((n,n,n,n))\n",
    "for i1, j1, i2, j2 in itertools.product(range(n), range(n), range(n), range(n)):\n",
    "    coeffs[i1,j1,i2,j2] = np.sqrt((grid[i1,j1,0]-grid[i2,j2,0]) ** 2 + (grid[i1,j1,1]-grid[i2,j2,1]) ** 2)\n",
    "    # print(f\"({i1},{j1},{i2},{j2}):({grid[i1,j1,0]},{grid[i1,j1,1]},{grid[i2,j2,0]},{grid[i2,j2,1]}): {coeffs[i1,j1,i2,j2]}\")\n",
    "\n",
    "# Set the minimization problem\n",
    "vars = m.addMVar((n,n,n,n), obj=coeffs, vtype=GRB.BINARY, name='x')\n",
    "\n",
    "# Constraints: two edges incident to each city\n",
    "cons = m.addConstrs(vars[i,j].sum() == 2 for i in range(n) for j in range(n))\n",
    "# Constraints: no loopholes!\n",
    "cons = m.addConstrs(vars[i,j,i,j] == 0 for i in range(n) for j in range(n))"
   ]
  },
  {
   "cell_type": "code",
   "execution_count": 4,
   "id": "68c76191-4161-4922-b99f-9e5ca6aea0e3",
   "metadata": {},
   "outputs": [],
   "source": [
    "# Callback - use lazy constraints to eliminate sub-tours\n",
    "\n",
    "def subtourelim(model, where):\n",
    "    # print(where == GRB.Callback.MIPSOL)\n",
    "    if where == GRB.Callback.MIPSOL:\n",
    "        # make a list of edges selected in the solution\n",
    "        vals = model.cbGetSolution(model._vars)\n",
    "        selected = np.transpose(np.where(vals > 0.5))\n",
    "        # find the shortest cycle in the selected edge list\n",
    "        min_tour, _ = subtour(selected)\n",
    "        # add subtour elimination constr. for every pair of cities in subtour\n",
    "        if len(min_tour) == 1:\n",
    "            try:\n",
    "                model.cbLazy(gp.quicksum(model._vars[min_tour[0][0], min_tour[0][1], min_tour[0][0], min_tour[0][1]]) <= 0)\n",
    "            except Exception as e:\n",
    "                print(f\"...: {min_tour}\")\n",
    "                print(e)\n",
    "        elif len(min_tour) < n:\n",
    "            model.cbLazy(gp.quicksum(model._vars[n1[0], n1[1], n2[0], n2[1]] for n1, n2 in combinations(min_tour, 2)) <= len(min_tour)-1)\n",
    "\n",
    "# Given a list of edges, find the shortest subtour\n",
    "\n",
    "def subtour(edges):\n",
    "    unvisited = [(i, j) for i in range(n) for j in range(n)]\n",
    "    cycle = range(n*n) # Dummy - guaranteed to be replaced\n",
    "    all_cycles = []\n",
    "    while unvisited:  # true if list is non-empty\n",
    "        thiscycle = []\n",
    "        neighbors = unvisited\n",
    "        while neighbors:\n",
    "            current = neighbors[0]\n",
    "            thiscycle.append(current)\n",
    "            unvisited.remove(current)\n",
    "            neighbors = []\n",
    "            for i1, j1, i2, j2 in edges:\n",
    "                if (i1, j1) == current and (i2, j2) in unvisited:\n",
    "                    neighbors.append((i2, j2))\n",
    "                elif (i2, j2) == current and (i1, j1) in unvisited:\n",
    "                    neighbors.append((i1, j1))\n",
    "        if len(thiscycle) <= len(cycle):\n",
    "            cycle = thiscycle # New shortest subtour\n",
    "            all_cycles.append(cycle)\n",
    "    return cycle, all_cycles"
   ]
  },
  {
   "cell_type": "code",
   "execution_count": 5,
   "id": "d0e17b52-ac27-473c-8196-ede4cc09bf68",
   "metadata": {
    "scrolled": true
   },
   "outputs": [
    {
     "name": "stdout",
     "output_type": "stream",
     "text": [
      "Set parameter LazyConstraints to value 1\n",
      "Gurobi Optimizer version 10.0.3 build v10.0.3rc0 (linux64)\n",
      "\n",
      "CPU model: Intel(R) Core(TM) i7-3770K CPU @ 3.50GHz, instruction set [SSE2|AVX]\n",
      "Thread count: 4 physical cores, 8 logical processors, using up to 8 threads\n",
      "\n",
      "Academic license - for non-commercial use only - registered to luffs.ottoman04@icloud.com\n",
      "Optimize a model with 200 rows, 10000 columns and 10100 nonzeros\n",
      "Model fingerprint: 0xe185ee9f\n",
      "Variable types: 0 continuous, 10000 integer (10000 binary)\n",
      "Coefficient statistics:\n",
      "  Matrix range     [1e+00, 1e+00]\n",
      "  Objective range  [2e-01, 3e+00]\n",
      "  Bounds range     [1e+00, 1e+00]\n",
      "  RHS range        [2e+00, 2e+00]\n",
      "...: [(9, 9)]\n",
      "Invalid axis specifications: 0\n",
      "Found heuristic solution: objective 299.3380238\n",
      "Presolve removed 100 rows and 100 columns\n",
      "Presolve time: 0.01s\n",
      "Presolved: 100 rows, 9900 columns, 9900 nonzeros\n",
      "Variable types: 0 continuous, 9900 integer (9900 binary)\n",
      "Found heuristic solution: objective 52.4444444\n",
      "\n",
      "Root relaxation: objective 4.444444e+01, 100 iterations, 0.00 seconds (0.00 work units)\n"
     ]
    },
    {
     "ename": "TypeError",
     "evalue": "Cannot convert MLinExpr to gurobipy.LinExpr",
     "output_type": "error",
     "traceback": [
      "\u001b[0;31m---------------------------------------------------------------------------\u001b[0m",
      "\u001b[0;31mTypeError\u001b[0m                                 Traceback (most recent call last)",
      "File \u001b[0;32msrc/gurobipy/callback.pxi:209\u001b[0m, in \u001b[0;36mgurobipy.CallbackClass.callback\u001b[0;34m()\u001b[0m\n",
      "Cell \u001b[0;32mIn[4], line 19\u001b[0m, in \u001b[0;36msubtourelim\u001b[0;34m(model, where)\u001b[0m\n\u001b[1;32m     17\u001b[0m         \u001b[38;5;28mprint\u001b[39m(e)\n\u001b[1;32m     18\u001b[0m \u001b[38;5;28;01melif\u001b[39;00m \u001b[38;5;28mlen\u001b[39m(min_tour) \u001b[38;5;241m<\u001b[39m n:\n\u001b[0;32m---> 19\u001b[0m     \u001b[43mmodel\u001b[49m\u001b[38;5;241;43m.\u001b[39;49m\u001b[43mcbLazy\u001b[49m\u001b[43m(\u001b[49m\u001b[43mgp\u001b[49m\u001b[38;5;241;43m.\u001b[39;49m\u001b[43mquicksum\u001b[49m\u001b[43m(\u001b[49m\u001b[43mmodel\u001b[49m\u001b[38;5;241;43m.\u001b[39;49m\u001b[43m_vars\u001b[49m\u001b[43m[\u001b[49m\u001b[43mn1\u001b[49m\u001b[43m[\u001b[49m\u001b[38;5;241;43m0\u001b[39;49m\u001b[43m]\u001b[49m\u001b[43m,\u001b[49m\u001b[43m \u001b[49m\u001b[43mn1\u001b[49m\u001b[43m[\u001b[49m\u001b[38;5;241;43m1\u001b[39;49m\u001b[43m]\u001b[49m\u001b[43m,\u001b[49m\u001b[43m \u001b[49m\u001b[43mn2\u001b[49m\u001b[43m[\u001b[49m\u001b[38;5;241;43m0\u001b[39;49m\u001b[43m]\u001b[49m\u001b[43m,\u001b[49m\u001b[43m \u001b[49m\u001b[43mn2\u001b[49m\u001b[43m[\u001b[49m\u001b[38;5;241;43m1\u001b[39;49m\u001b[43m]\u001b[49m\u001b[43m]\u001b[49m\u001b[43m \u001b[49m\u001b[38;5;28;43;01mfor\u001b[39;49;00m\u001b[43m \u001b[49m\u001b[43mn1\u001b[49m\u001b[43m,\u001b[49m\u001b[43m \u001b[49m\u001b[43mn2\u001b[49m\u001b[43m \u001b[49m\u001b[38;5;129;43;01min\u001b[39;49;00m\u001b[43m \u001b[49m\u001b[43mcombinations\u001b[49m\u001b[43m(\u001b[49m\u001b[43mmin_tour\u001b[49m\u001b[43m,\u001b[49m\u001b[43m \u001b[49m\u001b[38;5;241;43m2\u001b[39;49m\u001b[43m)\u001b[49m\u001b[43m)\u001b[49m\u001b[43m \u001b[49m\u001b[38;5;241;43m<\u001b[39;49m\u001b[38;5;241;43m=\u001b[39;49m\u001b[43m \u001b[49m\u001b[38;5;28;43mlen\u001b[39;49m\u001b[43m(\u001b[49m\u001b[43mmin_tour\u001b[49m\u001b[43m)\u001b[49m\u001b[38;5;241;43m-\u001b[39;49m\u001b[38;5;241;43m1\u001b[39;49m\u001b[43m)\u001b[49m\n",
      "File \u001b[0;32msrc/gurobipy/model.pxi:6550\u001b[0m, in \u001b[0;36mgurobipy.Model.cbLazy\u001b[0;34m()\u001b[0m\n",
      "File \u001b[0;32msrc/gurobipy/model.pxi:6555\u001b[0m, in \u001b[0;36mgurobipy.Model.__cbCutOrLazy\u001b[0;34m()\u001b[0m\n",
      "\u001b[0;31mTypeError\u001b[0m: Cannot convert MLinExpr to gurobipy.LinExpr"
     ]
    },
    {
     "name": "stderr",
     "output_type": "stream",
     "text": [
      "Exception ignored in: 'gurobipy.callbackstub'\n",
      "Traceback (most recent call last):\n",
      "  File \"src/gurobipy/callback.pxi\", line 209, in gurobipy.CallbackClass.callback\n",
      "  File \"/tmp/ipykernel_11379/4134462984.py\", line 19, in subtourelim\n",
      "  File \"src/gurobipy/model.pxi\", line 6550, in gurobipy.Model.cbLazy\n",
      "  File \"src/gurobipy/model.pxi\", line 6555, in gurobipy.Model.__cbCutOrLazy\n",
      "TypeError: Cannot convert MLinExpr to gurobipy.LinExpr\n"
     ]
    },
    {
     "name": "stdout",
     "output_type": "stream",
     "text": [
      "\n",
      "    Nodes    |    Current Node    |     Objective Bounds      |     Work\n",
      " Expl Unexpl |  Obj  Depth IntInf | Incumbent    BestBd   Gap | It/Node Time\n",
      "\n",
      "*    0     0               0      44.4444444   44.44444  0.00%     -    0s\n",
      "\n",
      "Explored 1 nodes (100 simplex iterations) in 0.22 seconds (0.01 work units)\n",
      "Thread count was 8 (of 8 available processors)\n",
      "\n",
      "Solution count 3: 44.4444 52.4444 299.338 \n",
      "\n",
      "Optimal solution found (tolerance 1.00e-04)\n",
      "Best objective 4.444444444444e+01, best bound 4.444444444444e+01, gap 0.0000%\n",
      "\n",
      "User-callback calls 122, time in user-callback 0.20 sec\n"
     ]
    }
   ],
   "source": [
    "m._vars = vars\n",
    "m.Params.lazyConstraints = 1\n",
    "m.optimize(subtourelim)"
   ]
  },
  {
   "cell_type": "code",
   "execution_count": 6,
   "id": "bb31d843-c250-4f0a-a672-6728c66a0154",
   "metadata": {
    "scrolled": true
   },
   "outputs": [
    {
     "name": "stdout",
     "output_type": "stream",
     "text": [
      "[(5, 4), (6, 4), (7, 4)]\n"
     ]
    }
   ],
   "source": [
    "# Get the list \"tour\"\n",
    "selected = np.transpose(np.where(m._vars.x > 0.5))\n",
    "tour, all_t = subtour(selected)\n",
    "print(tour)\n",
    "# assert len(tour) == n ** 2 "
   ]
  },
  {
   "cell_type": "code",
   "execution_count": 7,
   "id": "869c4963-d2d7-4b53-b3bc-980f1d893bf6",
   "metadata": {},
   "outputs": [
    {
     "name": "stdout",
     "output_type": "stream",
     "text": [
      "[(0, 0), (0, 1), (0, 2), (1, 2), (1, 1), (1, 0), (2, 0), (3, 0), (4, 0), (4, 1), (4, 2), (4, 3), (3, 3), (3, 2), (2, 2), (2, 1), (3, 1)]\n",
      "[(0, 3), (0, 4), (1, 4), (1, 3), (2, 3), (2, 4), (3, 4), (4, 4)]\n",
      "[(3, 5), (3, 6), (3, 7), (4, 7), (4, 6), (4, 5)]\n",
      "[(5, 0), (5, 1), (6, 1), (7, 1), (7, 0), (6, 0)]\n",
      "[(5, 2), (5, 3), (6, 3), (7, 3), (7, 2), (6, 2)]\n",
      "[(5, 4), (6, 4), (7, 4)]\n"
     ]
    },
    {
     "data": {
      "image/png": "[encoded data removed]",
      "text/plain": [
       "<Figure size 640x480 with 1 Axes>"
      ]
     },
     "metadata": {},
     "output_type": "display_data"
    }
   ],
   "source": [
    "# Graphical sanity check for the tour\n",
    "plt.figure()\n",
    "plt.scatter(grid[:, :, 0], grid[:, :, 1], color=\"blue\")\n",
    "\n",
    "for small_tour in all_t:\n",
    "    print(small_tour)\n",
    "    tour_np = np.array([]).reshape(0, 2)\n",
    "    for i, j in small_tour:\n",
    "        tour_np = np.concatenate((tour_np, grid[i, j].reshape(1, 2)))\n",
    "    plt.plot(tour_np[:, 0], tour_np[:, 1], color=\"green\", linewidth=1)\n",
    "plt.grid()\n",
    "plt.show()\n"
   ]
  },
  {
   "cell_type": "code",
   "execution_count": null,
   "id": "615daabd-0152-404d-8edc-7998f9683763",
   "metadata": {},
   "outputs": [],
   "source": []
  },
  {
   "cell_type": "code",
   "execution_count": null,
   "id": "ebe65188-0bd4-4717-82b5-e3c3fa102e30",
   "metadata": {},
   "outputs": [],
   "source": []
  }
 ],
 "metadata": {
  "kernelspec": {
   "display_name": "Python 3 (ipykernel)",
   "language": "python",
   "name": "python3"
  },
  "language_info": {
   "codemirror_mode": {
    "name": "ipython",
    "version": 3
   },
   "file_extension": ".py",
   "mimetype": "text/x-python",
   "name": "python",
   "nbconvert_exporter": "python",
   "pygments_lexer": "ipython3",
   "version": "3.11.5"
  }
 },
 "nbformat": 4,
 "nbformat_minor": 5
}
