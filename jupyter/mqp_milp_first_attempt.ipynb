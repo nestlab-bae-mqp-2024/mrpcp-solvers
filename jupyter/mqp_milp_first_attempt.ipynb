{
 "cells": [
  {
   "cell_type": "markdown",
   "id": "679af879-b5b7-4b8c-a61a-a62e5a432a15",
   "metadata": {},
   "source": [
    "# This basically a TSP (single-robot, no-failure, no-depletion)\n",
    "\n",
    "Consider nodes placed uniformly along X and Y axes like so."
   ]
  },
  {
   "cell_type": "code",
   "execution_count": 1,
   "id": "8b366722-57e8-4a2e-b8d6-56350cc2d53f",
   "metadata": {},
   "outputs": [
    {
     "name": "stdout",
     "output_type": "stream",
     "text": [
      "Requirement already satisfied: matplotlib in /opt/conda/lib/python3.11/site-packages (3.8.0)\n",
      "Requirement already satisfied: scipy in /opt/conda/lib/python3.11/site-packages (1.11.3)\n",
      "Requirement already satisfied: contourpy>=1.0.1 in /opt/conda/lib/python3.11/site-packages (from matplotlib) (1.1.1)\n",
      "Requirement already satisfied: cycler>=0.10 in /opt/conda/lib/python3.11/site-packages (from matplotlib) (0.12.0)\n",
      "Requirement already satisfied: fonttools>=4.22.0 in /opt/conda/lib/python3.11/site-packages (from matplotlib) (4.43.0)\n",
      "Requirement already satisfied: kiwisolver>=1.0.1 in /opt/conda/lib/python3.11/site-packages (from matplotlib) (1.4.5)\n",
      "Requirement already satisfied: numpy<2,>=1.21 in /opt/conda/lib/python3.11/site-packages (from matplotlib) (1.26.0)\n",
      "Requirement already satisfied: packaging>=20.0 in /opt/conda/lib/python3.11/site-packages (from matplotlib) (23.1)\n",
      "Requirement already satisfied: pillow>=6.2.0 in /opt/conda/lib/python3.11/site-packages (from matplotlib) (10.0.1)\n",
      "Requirement already satisfied: pyparsing>=2.3.1 in /opt/conda/lib/python3.11/site-packages (from matplotlib) (3.1.1)\n",
      "Requirement already satisfied: python-dateutil>=2.7 in /opt/conda/lib/python3.11/site-packages (from matplotlib) (2.8.2)\n",
      "Requirement already satisfied: six>=1.5 in /opt/conda/lib/python3.11/site-packages (from python-dateutil>=2.7->matplotlib) (1.16.0)\n",
      "Note: you may need to restart the kernel to use updated packages.\n"
     ]
    }
   ],
   "source": [
    "%pip install matplotlib scipy"
   ]
  },
  {
   "cell_type": "code",
   "execution_count": 2,
   "id": "775a4576-d143-410d-8269-3f4dc2d185b4",
   "metadata": {},
   "outputs": [
    {
     "data": {
      "image/png": "[encoded data removed]",
      "text/plain": [
       "<Figure size 640x480 with 1 Axes>"
      ]
     },
     "metadata": {},
     "output_type": "display_data"
    }
   ],
   "source": [
    "from matplotlib import pyplot as plt\n",
    "from pprint import pp\n",
    "import numpy as np\n",
    "\n",
    "# This implementation only works with n = 2 and 3. It fails 4 and onwards\n",
    "# Chose the number of nodes in an axis\n",
    "n = 3\n",
    "# Create a uniform (n, n, 2) numpy grid for MAXIMUM SPEED\n",
    "grid = np.mgrid[-1:1:n*1j, -1.:1:n*1j]\n",
    "grid = grid.reshape(grid.shape + (1,))\n",
    "grid = np.concatenate((grid[0], grid[1]), axis=2)\n",
    "# Sanity check\n",
    "# pp(grid)\n",
    "# pp(grid[:, :, 0].reshape(-1))\n",
    "# pp(grid[:, :, 1].reshape(-1))\n",
    "\n",
    "# Graphical sanity check\n",
    "plt.figure()\n",
    "plt.scatter(grid[:, :, 0], grid[:, :, 1])\n",
    "plt.grid()\n",
    "plt.show()"
   ]
  },
  {
   "cell_type": "markdown",
   "id": "021dee62-918c-4581-b03a-d534ad3246ce",
   "metadata": {},
   "source": [
    "## TSP Model Formulation\n",
    "\n",
    "### Sets and Indices\n",
    "$i, j \\in Nodes $: indices and set of nodes.\n",
    "\n",
    "$\\text{Edges}= \\{(i,j) \\in Nodes \\times Nodes \\}$: Set of allowed edges (All for now, so this is fully connected)\n",
    "\n",
    "$S \\subset Nodes$: A subset of the set of Nodes.\n",
    "\n",
    "$G = (Nodes, Edges)$: A graph where the set $Nodes$ defines the set of nodes and the set $Edges$ defines the set of edges.\n",
    "\n",
    "### Parameters\n",
    "\n",
    "$d_{i, j} \\in \\mathbb{R}^+$: Distance from node $i$ to node $j$, for all $(i, j) \\in Edges$.\n",
    "\n",
    "### Decision Variables\n",
    "$x_{i, j} \\in \\{0, 1\\}$: This variable is equal to 1, if we decide to connect node $i$ with node $j$. Otherwise, the decision variable is equal to zero.\n",
    "\n",
    "### Objective Function\n",
    "- **Shortest Route**. Minimize the total distance of a route. A route is a sequence of nodes where the robot visits each node only once and returns to the starting node. This forms a loop and the robot can follow this persistently. \n",
    "\n",
    "\\begin{equation}\n",
    "\\text{Min} \\quad Z = \\sum_{(i,j) \\in \\text{Edges}}d_{i,j} \\cdot x_{i,j}\n",
    "\\tag{0}\n",
    "\\end{equation}\n",
    "\n",
    "### Constraints\n",
    "- **Symmetry Constraints**. For each edge $(i,j)$ that is visited, make sure $(j,i)$ is also marked visited/crossed.\n",
    "\n",
    "\\begin{equation}\n",
    "x_{i, j} = x_{j, i} \\quad \\forall (i, j) \\in Edges\n",
    "\\tag{1}\n",
    "\\end{equation}\n",
    "\n",
    "- **Entering and leaving a node**. For each node $i$, ensure that this node is connected to two other nodes.\n",
    "\n",
    "\\begin{equation}\n",
    "\\sum_{(i,j) \\in \\text{Edges}}x_{i,j} = 2 \\quad \\forall  i \\in Nodes\n",
    "\\tag{2}\n",
    "\\end{equation}\n",
    "\n",
    "- **Subtour elimination**. These constraints ensure that for any subset of nodes $S$ of the set of $Nodes$, there is no cycle. That is, there is no route that visits all the nodes in the subset and returns to the origin node.\n",
    "\n",
    "\\begin{equation}\n",
    "\\sum_{(i \\neq j) \\in S}x_{i,j} \\leq |S|-1 \\quad \\forall  S \\subset  Nodes\n",
    "\\tag{3}\n",
    "\\end{equation}\n",
    "\n",
    "- **Remark**. In general, if the number of nodes of the TSP is $n$, then the possible number of routes is n\\!.\n",
    "Since there are an exponential number of constraints ($2^{n} - 2$) to eliminate cycles, we use lazy constraints to dynamically eliminate those cycles."
   ]
  },
  {
   "cell_type": "code",
   "execution_count": 3,
   "id": "7c193df2-b49d-4541-a361-c1a33934451b",
   "metadata": {},
   "outputs": [
    {
     "name": "stdout",
     "output_type": "stream",
     "text": [
      "Set parameter WLSAccessID\n",
      "Set parameter WLSSecret\n",
      "Set parameter LicenseID to value 2419685\n",
      "Academic license - for non-commercial use only - registered to luffs.ottoman04@icloud.com\n"
     ]
    }
   ],
   "source": [
    "import gurobipy as gp\n",
    "from gurobipy import GRB\n",
    "from itertools import combinations\n",
    "import itertools\n",
    "\n",
    "m = gp.Model()\n",
    "\n",
    "# Calculate d_{ij} (d[i1, j1, i2, j2] is the cost from node (i1, j1) to (i2, j2))\n",
    "coeffs = np.zeros((n,n,n,n))\n",
    "for i1, j1, i2, j2 in itertools.product(range(n), range(n), range(n), range(n)):\n",
    "    coeffs[i1,j1,i2,j2] = np.sqrt((grid[i1,j1,0]-grid[i2,j2,0]) ** 2 + (grid[i1,j1,1]-grid[i2,j2,1]) ** 2)\n",
    "    # print(f\"({i1},{j1},{i2},{j2}):({grid[i1,j1,0]},{grid[i1,j1,1]},{grid[i2,j2,0]},{grid[i2,j2,1]}): {coeffs[i1,j1,i2,j2]}\")\n",
    "\n",
    "# Set the minimization problem\n",
    "vars = m.addMVar((n,n,n,n), obj=coeffs, vtype=GRB.BINARY, name='x')\n",
    "\n",
    "# Constraints: two edges incident to each city\n",
    "cons = m.addConstrs(vars[i,j].sum() == 2 for i in range(n) for j in range(n))\n",
    "# Constraints: no loopholes!\n",
    "cons = m.addConstrs(vars[i,j,i,j] == 0 for i in range(n) for j in range(n))"
   ]
  },
  {
   "cell_type": "code",
   "execution_count": 4,
   "id": "68c76191-4161-4922-b99f-9e5ca6aea0e3",
   "metadata": {},
   "outputs": [],
   "source": [
    "# Callback - use lazy constraints to eliminate sub-tours\n",
    "\n",
    "def subtourelim(model, where):\n",
    "    # print(where == GRB.Callback.MIPSOL)\n",
    "    if where == GRB.Callback.MIPSOL:\n",
    "        # make a list of edges selected in the solution\n",
    "        vals = model.cbGetSolution(model._vars)\n",
    "        selected = np.transpose(np.where(vals > 0.5))\n",
    "        # find the shortest cycle in the selected edge list\n",
    "        tour = subtour(selected)\n",
    "        # add subtour elimination constr. for every pair of cities in subtour\n",
    "        if len(tour) == 1:\n",
    "            try:\n",
    "                model.cbLazy(gp.quicksum(model._vars[tour[0][0], tour[0][1], tour[0][0], tour[0][1]]) <= 0)\n",
    "            except Exception as e:\n",
    "                print(f\"...: {tour}\")\n",
    "                print(e)\n",
    "        elif len(tour) < n:\n",
    "            model.cbLazy(gp.quicksum(model._vars[n1[0], n1[1], n2[0], n2[1]] for n1, n2 in combinations(tour, 2)) <= len(tour)-1)\n",
    "\n",
    "# Given a list of edges, find the shortest subtour\n",
    "\n",
    "def subtour(edges):\n",
    "    unvisited = [(i, j) for i in range(n) for j in range(n)]\n",
    "    cycle = range(n*n) # Dummy - guaranteed to be replaced\n",
    "    while unvisited:  # true if list is non-empty\n",
    "        thiscycle = []\n",
    "        neighbors = unvisited\n",
    "        while neighbors:\n",
    "            current = neighbors[0]\n",
    "            thiscycle.append(current)\n",
    "            unvisited.remove(current)\n",
    "            neighbors = []\n",
    "            for i1, j1, i2, j2 in edges:\n",
    "                if (i1, j1) == current and (i2, j2) in unvisited:\n",
    "                    neighbors.append((i2, j2))\n",
    "                elif (i2, j2) == current and (i1, j1) in unvisited:\n",
    "                    neighbors.append((i1, j1))\n",
    "        if len(thiscycle) <= len(cycle):\n",
    "            cycle = thiscycle # New shortest subtour\n",
    "    return cycle"
   ]
  },
  {
   "cell_type": "code",
   "execution_count": 5,
   "id": "d0e17b52-ac27-473c-8196-ede4cc09bf68",
   "metadata": {},
   "outputs": [
    {
     "name": "stdout",
     "output_type": "stream",
     "text": [
      "Set parameter LazyConstraints to value 1\n",
      "Gurobi Optimizer version 10.0.3 build v10.0.3rc0 (linux64)\n",
      "\n",
      "CPU model: Intel(R) Core(TM) i7-3770K CPU @ 3.50GHz, instruction set [SSE2|AVX]\n",
      "Thread count: 4 physical cores, 8 logical processors, using up to 8 threads\n",
      "\n",
      "Academic license - for non-commercial use only - registered to luffs.ottoman04@icloud.com\n",
      "Optimize a model with 18 rows, 81 columns and 90 nonzeros\n",
      "Model fingerprint: 0x0a84c74e\n",
      "Variable types: 0 continuous, 81 integer (81 binary)\n",
      "Coefficient statistics:\n",
      "  Matrix range     [1e+00, 1e+00]\n",
      "  Objective range  [1e+00, 3e+00]\n",
      "  Bounds range     [1e+00, 1e+00]\n",
      "  RHS range        [2e+00, 2e+00]\n",
      "...: [(2, 2)]\n",
      "Invalid axis specifications: 0\n",
      "Found heuristic solution: objective 30.0153397\n",
      "Presolve removed 9 rows and 9 columns\n",
      "Presolve time: 0.00s\n",
      "Presolved: 9 rows, 72 columns, 72 nonzeros\n",
      "Variable types: 0 continuous, 72 integer (72 binary)\n",
      "Found heuristic solution: objective 19.0000000\n",
      "\n",
      "Root relaxation: objective 1.800000e+01, 9 iterations, 0.00 seconds (0.00 work units)\n",
      "\n",
      "    Nodes    |    Current Node    |     Objective Bounds      |     Work\n",
      " Expl Unexpl |  Obj  Depth IntInf | Incumbent    BestBd   Gap | It/Node Time\n",
      "\n",
      "*    0     0               0      18.0000000   18.00000  0.00%     -    0s\n",
      "\n",
      "Explored 1 nodes (9 simplex iterations) in 0.01 seconds (0.00 work units)\n",
      "Thread count was 8 (of 8 available processors)\n",
      "\n",
      "Solution count 3: 18 19 30.0153 \n",
      "\n",
      "Optimal solution found (tolerance 1.00e-04)\n",
      "Best objective 1.800000000000e+01, best bound 1.800000000000e+01, gap 0.0000%\n",
      "\n",
      "User-callback calls 120, time in user-callback 0.01 sec\n"
     ]
    }
   ],
   "source": [
    "m._vars = vars\n",
    "m.Params.lazyConstraints = 1\n",
    "m.optimize(subtourelim)"
   ]
  },
  {
   "cell_type": "code",
   "execution_count": 6,
   "id": "bb31d843-c250-4f0a-a672-6728c66a0154",
   "metadata": {
    "scrolled": true
   },
   "outputs": [
    {
     "name": "stdout",
     "output_type": "stream",
     "text": [
      "[(0, 0), (0, 1), (0, 2), (1, 2), (1, 1), (1, 0), (2, 0), (2, 1), (2, 2)]\n"
     ]
    }
   ],
   "source": [
    "# Get the list \"tour\"\n",
    "selected = np.transpose(np.where(m._vars.x > 0.5))\n",
    "tour = subtour(selected)\n",
    "print(tour)\n",
    "assert len(tour) == n ** 2 "
   ]
  },
  {
   "cell_type": "code",
   "execution_count": 7,
   "id": "869c4963-d2d7-4b53-b3bc-980f1d893bf6",
   "metadata": {},
   "outputs": [
    {
     "data": {
      "image/png": "[encoded data removed]",
      "text/plain": [
       "<Figure size 640x480 with 1 Axes>"
      ]
     },
     "metadata": {},
     "output_type": "display_data"
    }
   ],
   "source": [
    "# Graphical sanity check for the tour\n",
    "plt.figure()\n",
    "plt.scatter(grid[:, :, 0], grid[:, :, 1], color=\"blue\")\n",
    "\n",
    "tour_np = np.array([]).reshape(0, 2)\n",
    "for i, j in tour:\n",
    "    tour_np = np.concatenate((tour_np, grid[i, j].reshape(1, 2)))\n",
    "plt.plot(tour_np[:, 0], tour_np[:, 1], color=\"green\", linewidth=1)\n",
    "plt.grid()\n",
    "plt.show()\n"
   ]
  },
  {
   "cell_type": "code",
   "execution_count": null,
   "id": "615daabd-0152-404d-8edc-7998f9683763",
   "metadata": {},
   "outputs": [],
   "source": []
  },
  {
   "cell_type": "code",
   "execution_count": null,
   "id": "ebe65188-0bd4-4717-82b5-e3c3fa102e30",
   "metadata": {},
   "outputs": [],
   "source": []
  }
 ],
 "metadata": {
  "kernelspec": {
   "display_name": "Python 3 (ipykernel)",
   "language": "python",
   "name": "python3"
  },
  "language_info": {
   "codemirror_mode": {
    "name": "ipython",
    "version": 3
   },
   "file_extension": ".py",
   "mimetype": "text/x-python",
   "name": "python",
   "nbconvert_exporter": "python",
   "pygments_lexer": "ipython3",
   "version": "3.11.5"
  }
 },
 "nbformat": 4,
 "nbformat_minor": 5
}
