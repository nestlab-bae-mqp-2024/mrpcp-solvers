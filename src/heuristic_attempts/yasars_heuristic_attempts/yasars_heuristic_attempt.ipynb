{
 "cells": [
  {
   "cell_type": "code",
   "execution_count": 1,
   "id": "initial_id",
   "metadata": {
    "collapsed": true,
    "ExecuteTime": {
     "end_time": "2024-02-27T21:33:46.402755Z",
     "start_time": "2024-02-27T21:33:46.147180Z"
    }
   },
   "outputs": [],
   "source": [
    "import gc\n",
    "%load_ext autoreload\n",
    "%autoreload 2\n",
    "\n",
    "from matplotlib import pyplot as plt\n",
    "import numpy as np\n",
    "from utils.tsp_solver import k_opt\n",
    "from utils.visualize import visualize_paths, visualize_subtours\n",
    "from concurrent.futures import ProcessPoolExecutor\n",
    "import time\n",
    "import os"
   ]
  },
  {
   "cell_type": "code",
   "execution_count": 2,
   "outputs": [],
   "source": [
    "# Chose number of robots\n",
    "k = 100\n",
    "# Chose the number of targets in an axis\n",
    "n = 500\n",
    "# Chose the length of distance of each side of the square arena\n",
    "d = 3.\n",
    "# Choose the redundancy parameter (have each target be visited by exactly that many robots)\n",
    "rp = min(3, k)\n",
    "# Fuel Capacity Parameters\n",
    "max_fuel_cost_to_node = d * np.sqrt(2)  # √8 is the max possible distance between our nodes (-1, -1) and (1, 1)\n",
    "L_min = max_fuel_cost_to_node * 2  # √8 is the max possible distance between our nodes (-1, -1) and (1, 1)\n",
    "L = L_min * 1.5  # Fuel capacity (1 unit of fuel = 1 unit of distance)\n",
    "\n",
    "precision_float_type = np.float16\n",
    "enable_tsp_optimization = False"
   ],
   "metadata": {
    "collapsed": false,
    "ExecuteTime": {
     "end_time": "2024-02-27T21:33:46.419378Z",
     "start_time": "2024-02-27T21:33:46.409261Z"
    }
   },
   "id": "629e007e432c13c3"
  },
  {
   "cell_type": "markdown",
   "source": [
    "## 1. Create map and get node indices\n"
   ],
   "metadata": {
    "collapsed": false
   },
   "id": "49e0709cd64f9d3c"
  },
  {
   "cell_type": "code",
   "execution_count": 3,
   "outputs": [
    {
     "name": "stdout",
     "output_type": "stream",
     "text": [
      "targets.shape=(250000, 2)\n",
      "depots.shape=(1, 2)\n"
     ]
    },
    {
     "data": {
      "text/plain": "<Figure size 640x480 with 1 Axes>",
      "image/png": "[encoded data removed]"
     },
     "metadata": {},
     "output_type": "display_data"
    }
   ],
   "source": [
    "# 1. Create map and get node indices\n",
    "def construct_map(n, d):\n",
    "    # nodes = targets + depots\n",
    "    ulb = (d/2.)  # Upper/Lower bound\n",
    "    # Create a uniform (n*n, 2) numpy target grid for MAXIMUM SPEED\n",
    "    xy = np.linspace(-ulb, ulb, n, dtype=precision_float_type)\n",
    "    xtargets, ytargets = np.meshgrid(xy, xy)\n",
    "    targets = np.concatenate((xtargets.reshape((n*n, 1)), ytargets.reshape((n*n, 1))), axis=1)\n",
    "    target_indices = list(range(len(targets)))\n",
    "    print(f\"{targets.shape=}\")\n",
    "\n",
    "    # Specify depots\n",
    "    # One depot node in the corner\n",
    "    depots = np.array([\n",
    "        [-ulb, -ulb],\n",
    "    ])\n",
    "    print(f\"{depots.shape=}\")\n",
    "    depot_indices = list(range(len(targets), len(targets) + len(depots)))\n",
    "\n",
    "    nodes = np.concatenate((targets, depots))\n",
    "    # print(f\"{nodes.shape=}\")\n",
    "    node_indices = list(range(len(targets) + len(depots)))\n",
    "\n",
    "    # Graphical sanity check\n",
    "    plt.figure()\n",
    "    plt.scatter(targets[:, 0], targets[:, 1], c='blue', s=10)\n",
    "    plt.scatter(depots[:, 0], depots[:, 1], c='red', s=50)\n",
    "    plt.grid()\n",
    "    plt.show()\n",
    "\n",
    "    return nodes, node_indices, target_indices, depot_indices\n",
    "\n",
    "\n",
    "nodes, node_indices, target_indices, depot_indices = construct_map(n, d)"
   ],
   "metadata": {
    "collapsed": false,
    "ExecuteTime": {
     "end_time": "2024-02-27T21:33:46.632194Z",
     "start_time": "2024-02-27T21:33:46.419805Z"
    }
   },
   "id": "3fa6369c867e73e4"
  },
  {
   "cell_type": "markdown",
   "source": [
    "## 2. Calculate cost between each node\n"
   ],
   "metadata": {
    "collapsed": false
   },
   "id": "34a9af6b3d18b999"
  },
  {
   "cell_type": "code",
   "execution_count": 4,
   "outputs": [
    {
     "name": "stderr",
     "output_type": "stream",
     "text": [
      " 18%|█▊        | 7/40 [00:56<04:26,  8.07s/it]\n"
     ]
    },
    {
     "ename": "KeyboardInterrupt",
     "evalue": "",
     "output_type": "error",
     "traceback": [
      "\u001B[0;31m---------------------------------------------------------------------------\u001B[0m",
      "\u001B[0;31mKeyboardInterrupt\u001B[0m                         Traceback (most recent call last)",
      "Cell \u001B[0;32mIn[4], line 23\u001B[0m\n\u001B[1;32m     21\u001B[0m newcost \u001B[38;5;241m=\u001B[39m np\u001B[38;5;241m.\u001B[39mzeros((idx2\u001B[38;5;241m-\u001B[39midx1, nodes\u001B[38;5;241m.\u001B[39mshape[\u001B[38;5;241m0\u001B[39m]))\n\u001B[1;32m     22\u001B[0m distance\u001B[38;5;241m.\u001B[39mcdist(nodes[idx1:idx2], nodes, \u001B[38;5;124m'\u001B[39m\u001B[38;5;124meuclidean\u001B[39m\u001B[38;5;124m'\u001B[39m, out\u001B[38;5;241m=\u001B[39mnewcost)\n\u001B[0;32m---> 23\u001B[0m cost[idx1:idx2, :] \u001B[38;5;241m=\u001B[39m newcost\u001B[38;5;241m.\u001B[39mastype(precision_float_type)\n\u001B[1;32m     24\u001B[0m \u001B[38;5;28;01mdel\u001B[39;00m newcost\n\u001B[1;32m     25\u001B[0m gc\u001B[38;5;241m.\u001B[39mcollect()\n",
      "\u001B[0;31mKeyboardInterrupt\u001B[0m: "
     ]
    }
   ],
   "source": [
    "# 2. Calculate cost between each node\n",
    "from tqdm import tqdm\n",
    "from scipy.spatial import distance\n",
    "# import gc\n",
    "\n",
    "start = time.time()\n",
    "max_n = 200\n",
    "cost = np.zeros((nodes.shape[0], nodes.shape[0]), dtype=precision_float_type)\n",
    "if n <= max_n:\n",
    "    cost = distance.cdist(nodes, nodes, 'euclidean').astype(precision_float_type)\n",
    "else:\n",
    "    num_of_broken_indices = int(2 + ((n ** 4) / (max_n ** 4)))\n",
    "    broken_indices = np.linspace(0, nodes.shape[0], num_of_broken_indices, dtype=int)\n",
    "    # print(f\"{broken_indices=}\")\n",
    "    for i in tqdm(range(len(broken_indices)-1)):\n",
    "\n",
    "        idx1 = broken_indices[i]\n",
    "        idx2 = broken_indices[i+1]\n",
    "        # print(f\"{idx1=} {idx2=}\")\n",
    "        # print(f\"{nodes[idx1:idx2].shape=} {nodes.shape=}\")\n",
    "        newcost = np.zeros((idx2-idx1, nodes.shape[0]))\n",
    "        distance.cdist(nodes[idx1:idx2], nodes, 'euclidean', out=newcost)\n",
    "        cost[idx1:idx2, :] = newcost.astype(precision_float_type)\n",
    "        del newcost\n",
    "        gc.collect()\n",
    "\n",
    "print(f\"took {time.time() - start} seconds\")\n",
    "print(f\"{cost.shape=}\")\n"
   ],
   "metadata": {
    "collapsed": false,
    "ExecuteTime": {
     "end_time": "2024-02-27T21:34:43.188844Z",
     "start_time": "2024-02-27T21:33:46.562976Z"
    }
   },
   "id": "e89340553ee09e9f"
  },
  {
   "cell_type": "markdown",
   "source": [
    "## 3. Solve for given parameters"
   ],
   "metadata": {
    "collapsed": false
   },
   "id": "4b1a3ab252b976a1"
  },
  {
   "cell_type": "code",
   "execution_count": null,
   "outputs": [],
   "source": [
    "# Step 1: sort the node indices for creating subtours\n",
    "start = time.time()\n",
    "heading_values = []\n",
    "for n_i in target_indices:\n",
    "    v1 = nodes[n_i]\n",
    "    v2 = nodes[depot_indices[0]]\n",
    "    heading = np.arctan2(*(v1 - v2)) % (2 * np.pi)\n",
    "    heading_values.append(heading)\n",
    "heading_values = np.array(heading_values)\n",
    "# print(f\"{heading_values.shape=}\")\n",
    "nodes_costs = cost[:depot_indices[0], depot_indices[0]]\n",
    "# print(f\"{nodes_costs.shape=}\")\n",
    "sorted_indices = np.lexsort((nodes_costs, heading_values))\n",
    "# for i, ti in enumerate(sorted_indices):\n",
    "#     print(f\"{i=} {ti=} {heading_values[ti]=} {nodes_costs[ti]=}\")\n",
    "print(f\"Step 1 took {time.time() - start} seconds.\")\n"
   ],
   "metadata": {
    "collapsed": false,
    "ExecuteTime": {
     "start_time": "2024-02-27T21:34:43.188422Z"
    }
   },
   "id": "9fe34eb715b7379b"
  },
  {
   "cell_type": "code",
   "execution_count": null,
   "outputs": [],
   "source": [
    "# Step 2: Divide nodes to subtours s.t. cost <= L\n",
    "def divideArrayByP(array, maxp, countf, low=None, high=None, force_p_equals=False):\n",
    "    if low is None:\n",
    "        low = min(array)\n",
    "    if high is None:\n",
    "        high = sum(array)\n",
    "\n",
    "    # condition = True\n",
    "    maxSum = low\n",
    "    maxSum_max = high\n",
    "    maxSum_min = low\n",
    "    err_thresh = 0.01\n",
    "    pc_prev = None\n",
    "    same_pc_counter = 0\n",
    "    best_p, best_p_a, best_p_c = np.inf, None, [np.inf]\n",
    "    while True:\n",
    "        # print(f\"{maxSum_max=} {delta=} {maxSum=}\")\n",
    "        p, p_a, p_c = countf(array, maxSum)\n",
    "        if p > maxp:\n",
    "            maxSum_min = maxSum\n",
    "        elif p < maxp:\n",
    "            maxSum_max = min(maxSum, maxSum_max)\n",
    "        else:\n",
    "            maxSum_max = min(maxSum, maxSum_max)\n",
    "\n",
    "        if force_p_equals:\n",
    "            if maxp <= p <= best_p:\n",
    "                best_p = p\n",
    "                best_p_a = p_a\n",
    "                best_p_c = p_c\n",
    "        else:\n",
    "            if p <= best_p:\n",
    "                best_p = p\n",
    "                best_p_a = p_a\n",
    "                best_p_c = p_c\n",
    "\n",
    "        # print(f\"{p=} {max(p_c)=} {maxSum=} {maxSum_min=} {maxSum_max=} {maxSum_max - maxSum_min=} {best_p=}\")\n",
    "        # print(f\"{p=} {p_a=} {p_c=}\")\n",
    "        # time.sleep(0.5)\n",
    "\n",
    "        if p_c == pc_prev:\n",
    "            same_pc_counter += 1\n",
    "        else:\n",
    "            same_pc_counter = 0\n",
    "\n",
    "        pc_prev = p_c\n",
    "        if (best_p <= maxp or same_pc_counter > 2) and maxSum_max - maxSum_min < err_thresh:\n",
    "            return best_p_a, best_p_c, maxSum\n",
    "\n",
    "        if p > maxp and maxSum <= high:\n",
    "            delta = maxSum_max - maxSum\n",
    "            maxSum = maxSum + delta / 2.\n",
    "        else:\n",
    "            delta = maxSum - maxSum_min\n",
    "            maxSum = maxSum - delta / 2.\n",
    "\n",
    "\n",
    "start = time.time()\n",
    "# https://takeuforward.org/arrays/split-array-largest-sum/\n",
    "def countSubtourPartitions(a, maxSum):\n",
    "    # n = len(a)  # size of array\n",
    "    partitions = 1\n",
    "    partitions_array = [[depot_indices[0], depot_indices[0]]]\n",
    "    partitions_cost = []\n",
    "    node_addition_cost = 0\n",
    "    subarraySum = 0\n",
    "    for i in sorted_indices:\n",
    "        node_addition_index = 1\n",
    "        node_addition_cost = np.inf\n",
    "        subarraySum = 0\n",
    "        for j, n_j in enumerate(partitions_array[partitions - 1][:-1]):\n",
    "            n_k = partitions_array[partitions - 1][j + 1]\n",
    "            edge_cost = cost[n_j, n_k]\n",
    "            subarraySum += edge_cost\n",
    "            new_edge_cost = cost[n_j, i] + cost[i, n_k]\n",
    "            if new_edge_cost - edge_cost < node_addition_cost:\n",
    "                node_addition_cost = new_edge_cost - edge_cost\n",
    "                node_addition_index = j + 1\n",
    "\n",
    "        if subarraySum + node_addition_cost >= maxSum:\n",
    "            # if not, insert element to next subarray\n",
    "            partitions_cost.append(subarraySum)\n",
    "            partitions += 1\n",
    "            node_addition_index = 1\n",
    "            partitions_array.append([depot_indices[0], depot_indices[0]])\n",
    "        partitions_array[partitions - 1].insert(node_addition_index, i)\n",
    "        # print(f\"{partitions_array[partitions-1]}\")\n",
    "\n",
    "    if len(partitions_array) != len(partitions_cost):\n",
    "        partitions_cost.append(subarraySum + node_addition_cost)\n",
    "    return partitions, partitions_array, partitions_cost\n",
    "\n",
    "tsp_subtours, tsp_costs, maxSum = divideArrayByP(nodes_costs, k, countSubtourPartitions, low=L_min, high=L)\n",
    "print(f\"Step 2: Found {len(tsp_subtours)} subtours.\")\n",
    "# print(f\"{L=}\")\n",
    "# print(f\"{len(distributed_nodes_indices)=} {maxSum=}\")\n",
    "# print(f\"{distributed_nodes_indices=}\")\n",
    "# print(f\"{tsp_upper_bound=}\")\n",
    "# visualize_subtours(distributed_nodes_indices, nodes, node_indices, target_indices, depot_indices, cost, mode=\"faster\")\n",
    "print(f\"Step 2 took {time.time() - start} seconds.\")\n"
   ],
   "metadata": {
    "collapsed": false,
    "ExecuteTime": {
     "end_time": "2024-02-27T21:34:43.189388Z",
     "start_time": "2024-02-27T21:34:43.189277Z"
    }
   },
   "id": "b37b33cb3d208c2c"
  },
  {
   "cell_type": "code",
   "execution_count": null,
   "outputs": [],
   "source": [
    "# Step 3: Further optimize the subtours by running tsp on them\n",
    "start = time.time()\n",
    "if enable_tsp_optimization:\n",
    "    tsp_subtours_prev, tsp_costs_prev = tsp_subtours, tsp_costs\n",
    "    tsp_subtours = []\n",
    "    tsp_costs = []\n",
    "    with ProcessPoolExecutor(max_workers=os.cpu_count() - 1) as executor:\n",
    "        futures = []\n",
    "        for heur_subtour in tsp_subtours_prev:\n",
    "            futures.append(executor.submit(k_opt, *[heur_subtour, cost, 2]))\n",
    "    \n",
    "        uncompleted_jobs = list(range(len(futures)))\n",
    "        while len(uncompleted_jobs) != 0:\n",
    "            new_uncompleted_jobs = uncompleted_jobs\n",
    "            for future_i in uncompleted_jobs:\n",
    "                if futures[future_i].done():\n",
    "                    best_subtour, c = futures[future_i].result()\n",
    "                    print(\n",
    "                        f\"\\t[subtour {future_i + 1}/{len(futures)}] took {time.time() - start:.3f} seconds and improved {(1 - c / tsp_costs_prev[future_i]) * 100:.3f}%.\")\n",
    "                    tsp_subtours.append(best_subtour)\n",
    "                    tsp_costs.append(c)\n",
    "                    new_uncompleted_jobs.remove(future_i)\n",
    "                else:\n",
    "                    time.sleep(0.1)\n",
    "            uncompleted_jobs = new_uncompleted_jobs\n",
    "\n",
    "tsp_indices = np.array(tsp_costs).argsort().tolist()\n",
    "# visualize_subtours(tsp_subtours, nodes, node_indices, target_indices, depot_indices, cost, mode=\"faster\")\n",
    "print(f\"Step 3 took {time.time() - start} seconds.\")\n"
   ],
   "metadata": {
    "collapsed": false,
    "ExecuteTime": {
     "start_time": "2024-02-27T21:34:43.190527Z"
    }
   },
   "id": "cd885a170345f0b7"
  },
  {
   "cell_type": "code",
   "execution_count": null,
   "outputs": [],
   "source": [
    "# Step 4: Ensure rp\n",
    "start = time.time()\n",
    "num_of_subtours = len(tsp_subtours)\n",
    "for i in range(num_of_subtours, num_of_subtours * rp):\n",
    "    tsp_subtours.append(tsp_subtours[i % num_of_subtours])\n",
    "    tsp_costs.append(tsp_costs[i % num_of_subtours])\n",
    "    tsp_indices.append(i)\n",
    "print(f\"Step 4 took {time.time() - start} seconds.\")\n"
   ],
   "metadata": {
    "collapsed": false,
    "ExecuteTime": {
     "start_time": "2024-02-27T21:34:43.191423Z"
    }
   },
   "id": "11824b4f335f5f37"
  },
  {
   "cell_type": "code",
   "execution_count": null,
   "outputs": [],
   "source": [
    "# Step 5: Divide subtours between robots\n",
    "start = time.time()\n",
    "\n",
    "def countRobotPartitions(a, maxSum):\n",
    "    # n = len(a)  # size of array\n",
    "    partitions = 1\n",
    "    subarraySum = 0\n",
    "    partitions_array = [[]]\n",
    "    partitions_cost = []\n",
    "    for i in tsp_indices:\n",
    "        if subarraySum + a[i] <= maxSum:\n",
    "            # insert element to current subarray\n",
    "            subarraySum += a[i]\n",
    "        else:\n",
    "            # if not, insert element to next subarray\n",
    "            partitions_cost.append(subarraySum)\n",
    "            partitions += 1\n",
    "            subarraySum = a[i]\n",
    "            partitions_array.append([])\n",
    "        partitions_array[partitions - 1].append(tsp_subtours[i])\n",
    "\n",
    "    if len(partitions_array) != len(partitions_cost):\n",
    "        partitions_cost.append(subarraySum)\n",
    "\n",
    "    return partitions, partitions_array, partitions_cost\n",
    "\n",
    "optimized_node_paths, optimized_node_path_costs, maxSum = divideArrayByP(tsp_costs, k, countRobotPartitions, force_p_equals=True)\n",
    "# for i, optimized_node_path in enumerate(optimized_node_paths):\n",
    "#     print(f\"[{i}] {len(optimized_node_path)=} cost=({optimized_node_path_costs[i]})\")\n",
    "print(f\"{sum(optimized_node_path_costs)=} {max(optimized_node_path_costs)=}\")\n",
    "optimized_world_paths = []\n",
    "for ki in range(k):\n",
    "    robot_world_path = []\n",
    "    for i, subtour in enumerate(optimized_node_paths[ki]):\n",
    "        robot_world_path.append(nodes[subtour].tolist())\n",
    "    optimized_world_paths.append(robot_world_path)\n",
    "print(f\"Step 5 took {time.time() - start} seconds.\")\n"
   ],
   "metadata": {
    "collapsed": false,
    "ExecuteTime": {
     "end_time": "2024-02-27T21:34:43.192976Z",
     "start_time": "2024-02-27T21:34:43.192Z"
    }
   },
   "id": "aef2fe5cf2569b0c"
  },
  {
   "cell_type": "code",
   "execution_count": null,
   "outputs": [],
   "source": [
    "visualize_paths(optimized_node_paths, nodes, node_indices, target_indices, depot_indices, cost, mode=\"faster\")\n"
   ],
   "metadata": {
    "collapsed": false,
    "ExecuteTime": {
     "start_time": "2024-02-27T21:34:43.192549Z"
    }
   },
   "id": "80ba38fc12573055"
  }
 ],
 "metadata": {
  "kernelspec": {
   "display_name": "Python 3",
   "language": "python",
   "name": "python3"
  },
  "language_info": {
   "codemirror_mode": {
    "name": "ipython",
    "version": 2
   },
   "file_extension": ".py",
   "mimetype": "text/x-python",
   "name": "python",
   "nbconvert_exporter": "python",
   "pygments_lexer": "ipython2",
   "version": "2.7.6"
  }
 },
 "nbformat": 4,
 "nbformat_minor": 5
}
