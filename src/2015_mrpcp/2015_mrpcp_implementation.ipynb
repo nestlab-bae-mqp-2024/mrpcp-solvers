{
 "cells": [
  {
   "cell_type": "code",
   "execution_count": 12,
   "id": "initial_id",
   "metadata": {
    "collapsed": false,
    "ExecuteTime": {
     "end_time": "2023-12-14T10:27:46.150207Z",
     "start_time": "2023-12-14T10:27:46.088227Z"
    }
   },
   "outputs": [
    {
     "name": "stdout",
     "output_type": "stream",
     "text": [
      "targets.shape=(36, 2)\n"
     ]
    },
    {
     "data": {
      "text/plain": "<Figure size 640x480 with 1 Axes>",
      "image/png": "[encoded data removed]"
     },
     "metadata": {},
     "output_type": "display_data"
    }
   ],
   "source": [
    "from matplotlib import pyplot as plt\n",
    "from pprint import pp\n",
    "import numpy as np\n",
    "\n",
    "# Chose number of robots\n",
    "k = int(3)\n",
    "# Chose recharging proportionality constant\n",
    "q_k = 0.1  # This means that each robot will need to charge for 10 minutes for every 100 minutes travelled\n",
    "# Chose the number of targets in an axis\n",
    "n = int(6)\n",
    "\n",
    "# nodes = targets + depots\n",
    "# Create a uniform (n*n, 2) numpy target grid for MAXIMUM SPEED\n",
    "targets = np.mgrid[-1:1:n * 1j, -1.:1:n * 1j]\n",
    "targets = targets.reshape(targets.shape + (1,))\n",
    "targets = np.concatenate((targets[0], targets[1]), axis=2)\n",
    "targets = targets.reshape((n*n, 2))\n",
    "target_indices = range(len(targets))\n",
    "print(f\"{targets.shape=}\")\n",
    "\n",
    "# Specify depots\n",
    "# One depot node in the corner\n",
    "depots = np.array([\n",
    "    [-1., -1.],\n",
    "])\n",
    "## Four depot nodes (one in each corner)\n",
    "# depots = np.array([\n",
    "#     [-1., -1.],\n",
    "#     [-1., 1.],\n",
    "#     [1., -1.],\n",
    "#     [1., 1.],\n",
    "# ])\n",
    "# Offset one a bit\n",
    "# depots = np.array([\n",
    "#     [-1., -1.],\n",
    "#     [-1., 1.],\n",
    "#     [1., -1.],\n",
    "#     [1., 1.1],\n",
    "# ])\n",
    "# print(f\"{depots=}\")\n",
    "depot_indices_temp = range(len(targets), len(targets)+len(depots))\n",
    "\n",
    "# depots = np.concatenate((depots, depots))\n",
    "\n",
    "\n",
    "# Chose starting depot node\n",
    "# Make all robots start from same depot\n",
    "# B_k = np.array([depot_indices_temp[0]] * k)\n",
    "# Make depots start from multiple depots\n",
    "B_k = depot_indices_temp[:k]\n",
    "# print(f\"{B_k=}\")\n",
    "\n",
    "# Make sure the starting depots are duplicated.\n",
    "# This is needed s.t. robots can go back to recharge at the same location multiple times.\n",
    "# If this is not done, the robot can't keep recharging at the depot it starts and ends at.\n",
    "unique_start_depots = []\n",
    "for b_k in B_k:\n",
    "    if b_k not in unique_start_depots:\n",
    "        unique_start_depots.append(b_k)\n",
    "for b_k in unique_start_depots:\n",
    "    depots = np.concatenate((depots, np.array([depots[b_k-len(target_indices)]])))\n",
    "\n",
    "depot_indices = range(len(targets), len(targets)+len(depots))\n",
    "# print(f\"{depots=}\")\n",
    "\n",
    "nodes = np.concatenate((targets, depots))\n",
    "node_indices = range(len(targets)+len(depots))\n",
    "# print(f\"{nodes.shape=}\")\n",
    "\n",
    "# print(f\"{list(target_indices)=}\\n{list(depot_indices)=}\\n{list(node_indices)=}\")\n",
    "\n",
    "# Graphical sanity check\n",
    "plt.figure()\n",
    "plt.scatter(targets[:,0], targets[:,1], c='blue', s=10)\n",
    "plt.scatter(depots[:,0], depots[:,1], c='red', s=50)\n",
    "plt.grid()\n",
    "plt.show()"
   ]
  },
  {
   "cell_type": "code",
   "execution_count": 13,
   "id": "268cd022e8f52ee4",
   "metadata": {
    "collapsed": false,
    "ExecuteTime": {
     "end_time": "2023-12-14T10:28:00.962122Z",
     "start_time": "2023-12-14T10:28:00.952420Z"
    }
   },
   "outputs": [
    {
     "name": "stdout",
     "output_type": "stream",
     "text": [
      "cost.shape=(38, 38)\n"
     ]
    }
   ],
   "source": [
    "import itertools\n",
    "\n",
    "# Calculate c_{i,j} (c[i,j] is the cost (including recharging, q_k) from nodes i to j)\n",
    "cost = np.zeros((len(node_indices),len(node_indices)))\n",
    "for i, j in itertools.product(node_indices, node_indices):\n",
    "    cost[i,j] = np.sqrt((nodes[i,0]-nodes[j,0]) ** 2 + (nodes[i,1]-nodes[j,1]) ** 2)\n",
    "    # print(f\"({i},{j}):({nodes[i,0]},{nodes[i,1]},{nodes[j,0]},{nodes[j,1]}): {cost[i,j]}\")\n",
    "print(f\"{cost.shape=}\")\n"
   ]
  },
  {
   "cell_type": "code",
   "execution_count": 3,
   "id": "6b99b48560729e56",
   "metadata": {
    "collapsed": false,
    "ExecuteTime": {
     "end_time": "2023-12-14T10:11:10.784791Z",
     "start_time": "2023-12-14T10:09:10.641451Z"
    }
   },
   "outputs": [
    {
     "name": "stdout",
     "output_type": "stream",
     "text": [
      "Set parameter WLSAccessID\n",
      "Set parameter WLSSecret\n",
      "Set parameter LicenseID to value 2419685\n"
     ]
    },
    {
     "ename": "GurobiError",
     "evalue": "Could not resolve host: token.gurobi.com (code 6, command POST https://token.gurobi.com/api/v1/tokens)",
     "output_type": "error",
     "traceback": [
      "\u001B[0;31m---------------------------------------------------------------------------\u001B[0m",
      "\u001B[0;31mGurobiError\u001B[0m                               Traceback (most recent call last)",
      "Cell \u001B[0;32mIn[3], line 4\u001B[0m\n\u001B[1;32m      1\u001B[0m \u001B[38;5;28;01mimport\u001B[39;00m \u001B[38;5;21;01mgurobipy\u001B[39;00m \u001B[38;5;28;01mas\u001B[39;00m \u001B[38;5;21;01mgp\u001B[39;00m\n\u001B[1;32m      2\u001B[0m \u001B[38;5;28;01mfrom\u001B[39;00m \u001B[38;5;21;01mgurobipy\u001B[39;00m \u001B[38;5;28;01mimport\u001B[39;00m GRB\n\u001B[0;32m----> 4\u001B[0m m \u001B[38;5;241m=\u001B[39m \u001B[43mgp\u001B[49m\u001B[38;5;241;43m.\u001B[39;49m\u001B[43mModel\u001B[49m\u001B[43m(\u001B[49m\u001B[43m)\u001B[49m\n\u001B[1;32m      6\u001B[0m \u001B[38;5;66;03m# A. Integer Constraints (4), (5)\u001B[39;00m\n\u001B[1;32m      7\u001B[0m x \u001B[38;5;241m=\u001B[39m m\u001B[38;5;241m.\u001B[39maddMVar((k,\u001B[38;5;28mlen\u001B[39m(node_indices),\u001B[38;5;28mlen\u001B[39m(node_indices)), name\u001B[38;5;241m=\u001B[39m\u001B[38;5;124m'\u001B[39m\u001B[38;5;124mx\u001B[39m\u001B[38;5;124m'\u001B[39m, vtype\u001B[38;5;241m=\u001B[39mGRB\u001B[38;5;241m.\u001B[39mINTEGER, lb\u001B[38;5;241m=\u001B[39m\u001B[38;5;241m0\u001B[39m, ub\u001B[38;5;241m=\u001B[39m\u001B[38;5;28mlen\u001B[39m(target_indices))\n",
      "File \u001B[0;32msrc/gurobipy/model.pxi:69\u001B[0m, in \u001B[0;36mgurobipy.Model.__init__\u001B[0;34m()\u001B[0m\n",
      "File \u001B[0;32msrc/gurobipy/gurobi.pxi:28\u001B[0m, in \u001B[0;36mgurobipy.gurobi._getdefaultenv\u001B[0;34m()\u001B[0m\n",
      "File \u001B[0;32msrc/gurobipy/env.pxi:62\u001B[0m, in \u001B[0;36mgurobipy.Env.__init__\u001B[0;34m()\u001B[0m\n",
      "\u001B[0;31mGurobiError\u001B[0m: Could not resolve host: token.gurobi.com (code 6, command POST https://token.gurobi.com/api/v1/tokens)"
     ]
    }
   ],
   "source": [
    "import gurobipy as gp\n",
    "from gurobipy import GRB\n",
    "\n",
    "m = gp.Model()\n",
    "\n",
    "# A. Integer Constraints (4), (5)\n",
    "x = m.addMVar((k,len(node_indices),len(node_indices)), name='x', vtype=GRB.INTEGER, lb=0, ub=len(target_indices))\n",
    "for ki in range(k):\n",
    "    for i in target_indices:\n",
    "        for j in target_indices:\n",
    "            if i == j: continue\n",
    "            _ = m.addConstr(x[ki,i,j] <= 1)\n",
    "        for j in depot_indices:\n",
    "            _ = m.addConstr(x[ki,i,j] <= 1)\n",
    "            _ = m.addConstr(x[ki,j,i] <= 1)"
   ]
  },
  {
   "cell_type": "code",
   "execution_count": null,
   "id": "ca912f4337f21993",
   "metadata": {
    "collapsed": false
   },
   "outputs": [],
   "source": [
    "# B. Degree Constraints (6), (7), (8), (9), (10)\n",
    "# (6) and (7) Only one robot arrives to and leaves from a target (B_k is a depot, so we don't need to remove it from targets)\n",
    "_ = m.addConstrs(x[:,i,:].sum() == 1 for i in target_indices)\n",
    "_ = m.addConstrs(x[:,:,i].sum() == 1 for i in target_indices)\n",
    "\n",
    "for ki in range(k):\n",
    "    _ = m.addConstrs(x[ki,i,:].sum() <= 1 for i in target_indices)\n",
    "    _ = m.addConstrs(x[ki,:,i].sum() <= 1 for i in target_indices)\n",
    "\n",
    "    # (8) and (9) Begin and end at same position B_k\n",
    "    _ = m.addConstr(x[ki,B_k[ki],:].sum() <= 1)\n",
    "    _ = m.addConstr(x[ki,:,B_k[ki]].sum() <= 1)\n",
    "    \n",
    "    # (10) Every robot that visits a target leaves the target\n",
    "    _ = m.addConstrs((x[ki,:,i]-x[ki,i,:]).sum() == 0 for i in node_indices)\n",
    "\n",
    "    # Additional constraint: no loopholes! This is needed because we ignore the i != j constraint in others\n",
    "    _ = m.addConstrs(x[ki, i, i] == 0 for i in node_indices)"
   ]
  },
  {
   "cell_type": "code",
   "execution_count": null,
   "id": "49b7a8d0e07406ff",
   "metadata": {
    "collapsed": false
   },
   "outputs": [],
   "source": [
    "# C. Capacity and Flow Constraints (11), (12), (13), (14)\n",
    "p = m.addMVar((k,len(node_indices),len(node_indices)), name='p', vtype=GRB.INTEGER, lb=0, ub=len(target_indices))\n",
    "\n",
    "for ki in range(k):\n",
    "    # (11) and (12) flow constraints\n",
    "    right_side = 0\n",
    "    for i, j in itertools.product(target_indices, node_indices):\n",
    "        right_side += x[ki,i,j]\n",
    "    _ = m.addConstr((p[ki,B_k[ki],:] - p[ki,:,B_k[ki]]).sum() == right_side)\n",
    "    \n",
    "    for i in target_indices:\n",
    "        _ = m.addConstr((p[ki,:,i] - p[ki,i,:]).sum() == x[ki,i,:].sum())\n",
    "\n",
    "    # (13) Make sure target capacity doesn't change when passing through a depot\n",
    "    # Note: Disable for now because we only have one depot which is the starting point\n",
    "    for i in depot_indices:\n",
    "        if i == B_k[ki]: continue  # Why? See: https://github.com/NESTLab/mrpcp#linear-constraints\n",
    "        left_side = 0\n",
    "        for j in node_indices:\n",
    "            if i == j: continue\n",
    "            left_side += p[ki,j,i] - p[ki,i,j]\n",
    "        _ = m.addConstr(left_side == 0)\n",
    "\n",
    "    # (14) Ensure that target capacity for each robot doesn't exceed |T|\n",
    "    _ = m.addConstrs(p[ki,i,j] <= len(target_indices) * x[ki,i,j] for i in node_indices for j in node_indices)"
   ]
  },
  {
   "cell_type": "code",
   "execution_count": null,
   "outputs": [],
   "source": [
    "# # D. Fuel Constraints (15), (16), (17), (18), (19), (20)\n",
    "max_fuel_cost_to_node = np.sqrt(8)  # √8 is the max possible distance between our nodes (-1, -1) and (1, 1)\n",
    "L = max_fuel_cost_to_node * 4.  # Fuel capacity (1 unit of fuel = 1 unit of distance)\n",
    "M = L + max_fuel_cost_to_node\n",
    "r = m.addMVar((len(node_indices)), name='r', vtype=GRB.CONTINUOUS, lb=0, ub=L) # (20)\n",
    "\n",
    "for ki in range(k):\n",
    "    # (15) and (16)\n",
    "    for i, j in itertools.product(target_indices, target_indices):\n",
    "        left_side = r[j] - r[i] + cost[i,j]\n",
    "        right_side = M * (1 - x[ki,i,j])\n",
    "        _ = m.addConstr(left_side <=  right_side)\n",
    "        _ = m.addConstr(left_side >= -right_side)\n",
    "\n",
    "    # (17) and (18)\n",
    "    for i, j in itertools.product(depot_indices, target_indices):\n",
    "        left_side = r[j] - L + cost[i,j]\n",
    "        right_side = M * (1 - x[ki,i,j])\n",
    "        _ = m.addConstr(left_side >= -right_side)\n",
    "        _ = m.addConstr(left_side <=  right_side)\n",
    "\n",
    "        # (19)\n",
    "        _ = m.addConstr(r[j] - cost[j,i] >= -M * (1 - x[ki,j,i]))"
   ],
   "metadata": {
    "collapsed": false
   },
   "id": "d6864dcfbf39b780"
  },
  {
   "cell_type": "code",
   "execution_count": null,
   "outputs": [],
   "source": [
    "# Set objective function (3)\n",
    "p_max = m.addVar(vtype=GRB.CONTINUOUS, name=\"p_max\")\n",
    "_ = m.addConstrs((cost * x[ki]).sum() <= p_max for ki in range(k))\n",
    "m.setObjective(p_max)"
   ],
   "metadata": {
    "collapsed": false
   },
   "id": "3d3a4b542dfbe24e"
  },
  {
   "cell_type": "code",
   "execution_count": null,
   "outputs": [],
   "source": [
    "import datetime\n",
    "\n",
    "\n",
    "def visualize_paths_brute_force(edges):\n",
    "    # Only plot the paths for the robots that were assigned a path\n",
    "    active_robots = []\n",
    "    for ki in range(k):\n",
    "        if (cost * edges[ki]).sum() > 0.01:\n",
    "            active_robots.append(ki)\n",
    "\n",
    "    subplot_per_hor_axis = int(np.ceil(np.sqrt(len(active_robots))))\n",
    "    subplot_per_vert_axis = int(np.ceil(len(active_robots) / subplot_per_hor_axis))\n",
    "    fig, axs = plt.subplots(subplot_per_hor_axis, subplot_per_vert_axis, figsize=(subplot_per_hor_axis * 4, subplot_per_vert_axis * 4))\n",
    "    fig.tight_layout()\n",
    "    fig.subplots_adjust(bottom=0.1, top=0.9, right=0.9, left=0.1, wspace=0.3, hspace=0.3)\n",
    "\n",
    "    hor_i = 0\n",
    "    vert_i = 0\n",
    "    for robot_i, ki in enumerate(active_robots):\n",
    "        # print(f\"Robot #{ki}\\n-------\")\n",
    "        # print(f\"Staring position: {B_k[ki]} -> {[nodes[B_k[ki, 0], B_k[ki, 1], 0], nodes[B_k[ki, 0], B_k[ki, 1], 1]]}\")\n",
    "        if subplot_per_hor_axis == 1 and subplot_per_vert_axis == 1:\n",
    "            ax = axs\n",
    "        elif subplot_per_vert_axis == 1:\n",
    "            ax = axs[hor_i]\n",
    "        else:\n",
    "            ax = axs[hor_i][vert_i]\n",
    "        ax.set_title(f\"Robot #{robot_i+1} (cost={(cost * edges[ki]).sum():.3f})\")\n",
    "        ax.scatter(targets[:,0], targets[:,1], c='blue', s=10)\n",
    "        ax.scatter(depots[:,0], depots[:,1], c='red', s=50)\n",
    "        ax.scatter(nodes[B_k[ki], 0], nodes[B_k[ki], 1], c='red', s=100)\n",
    "\n",
    "        for i, j in itertools.product(node_indices, node_indices):\n",
    "            if edges[ki,i,j] > 0.5:  # In case there is any floating math errors\n",
    "                # print(f\"Connection from {[i1,j1]} to {[i2,j2]}\")\n",
    "                ax.scatter(nodes[i, 0], nodes[i, 1], c=\"purple\", s=8)\n",
    "                ax.scatter(nodes[j, 0], nodes[j, 1], c=\"purple\", s=8)\n",
    "                ax.plot([nodes[i, 0], nodes[j, 0]], [nodes[i, 1], nodes[j, 1]], color=\"purple\", linewidth=1)\n",
    "        \n",
    "        vert_i += 1\n",
    "        if vert_i >= subplot_per_vert_axis:\n",
    "            vert_i = 0\n",
    "            hor_i += 1\n",
    "        ax.grid()\n",
    "    \n",
    "    for h in range(subplot_per_hor_axis):\n",
    "        for v in range(subplot_per_vert_axis):\n",
    "            if subplot_per_hor_axis == 1 and subplot_per_vert_axis == 1:\n",
    "                ax = axs\n",
    "            elif subplot_per_vert_axis == 1:\n",
    "                ax = axs[h]\n",
    "            else:\n",
    "                ax = axs[h][v]\n",
    "            ax.set_box_aspect(1)\n",
    "    \n",
    "    fig.suptitle(f\"Paths for all robots (# of active/available robots={len(active_robots)}/{k}, sum of costs={(cost * edges).sum():.3f})\")\n",
    "    fig.savefig(f\"../../data/2015_mrpcp_k={k}_n={n}_{datetime.datetime.now().strftime('%Y-%m-%d-%H:%M:%S')}.png\") \n",
    "    plt.show()"
   ],
   "metadata": {
    "collapsed": false
   },
   "id": "8069547fa41721e3"
  },
  {
   "cell_type": "code",
   "execution_count": null,
   "outputs": [],
   "source": [
    "class MILPSolver:\n",
    "    min_cost_edges = None\n",
    "    min_cost = np.inf\n",
    "    def __init__(self, model):\n",
    "        self.model = model\n",
    "                \n",
    "    @staticmethod\n",
    "    def cb(what, where):\n",
    "        if where == GRB.Callback.MIPSOL and what.cbGet(GRB.Callback.MIPSOL_OBJ) < MILPSolver.min_cost:\n",
    "            MILPSolver.min_cost = what.cbGet(GRB.Callback.MIPSOL_OBJ)\n",
    "            print(f\"Found a new solution with lower cost({MILPSolver.min_cost:.3f})!\")\n",
    "            \n",
    "            # If this solution's maximum costing tour ~= the cost of tour that only travels between depot and the furthest node,\n",
    "            # then, this is guaranteed to be optimal.\n",
    "            if (MILPSolver.min_cost - max_fuel_cost_to_node * 2) < 0.01:\n",
    "                print(\"!This is guaranteed to be the optimal solution!\")\n",
    "                what.terminate()\n",
    "            \n",
    "            MILPSolver.min_cost_edges = what.cbGetSolution(what._x)\n",
    "            visualize_paths_brute_force(MILPSolver.min_cost_edges)\n",
    "\n",
    "    def solve(self):\n",
    "        self.model.optimize(MILPSolver.cb)\n"
   ],
   "metadata": {
    "collapsed": false
   },
   "id": "534e597dc5221ee8"
  },
  {
   "cell_type": "code",
   "execution_count": null,
   "outputs": [],
   "source": [
    "m._x = x\n",
    "solver = MILPSolver(m)\n",
    "solver.solve()"
   ],
   "metadata": {
    "collapsed": false,
    "pycharm": {
     "is_executing": true
    }
   },
   "id": "4be0b1426ced2738"
  },
  {
   "cell_type": "code",
   "execution_count": null,
   "outputs": [],
   "source": [
    "visualize_paths_brute_force(MILPSolver.min_cost_edges)\n",
    "# visualize_paths_faster(MILPSolver.min_cost_edges)"
   ],
   "metadata": {
    "collapsed": false
   },
   "id": "6595263778e921cc"
  },
  {
   "cell_type": "code",
   "execution_count": null,
   "outputs": [],
   "source": [],
   "metadata": {
    "collapsed": false
   },
   "id": "5d0a8f9d8c18ee9e"
  },
  {
   "cell_type": "code",
   "execution_count": null,
   "outputs": [],
   "source": [],
   "metadata": {
    "collapsed": false
   },
   "id": "fd784879f9ae9c7b"
  },
  {
   "cell_type": "markdown",
   "source": [],
   "metadata": {
    "collapsed": false
   },
   "id": "b54fd4e5b216bcd3"
  }
 ],
 "metadata": {
  "kernelspec": {
   "display_name": "Python 3 (ipykernel)",
   "language": "python",
   "name": "python3"
  },
  "language_info": {
   "codemirror_mode": {
    "name": "ipython",
    "version": 3
   },
   "file_extension": ".py",
   "mimetype": "text/x-python",
   "name": "python",
   "nbconvert_exporter": "python",
   "pygments_lexer": "ipython3",
   "version": "3.11.6"
  }
 },
 "nbformat": 4,
 "nbformat_minor": 5
}
